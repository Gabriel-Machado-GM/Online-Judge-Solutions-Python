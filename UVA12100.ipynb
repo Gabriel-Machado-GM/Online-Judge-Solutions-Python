{
  "nbformat": 4,
  "nbformat_minor": 0,
  "metadata": {
    "colab": {
      "provenance": [],
      "authorship_tag": "ABX9TyMFSvXThkxNZFTmGggPEPSq",
      "include_colab_link": true
    },
    "kernelspec": {
      "name": "python3",
      "display_name": "Python 3"
    },
    "language_info": {
      "name": "python"
    }
  },
  "cells": [
    {
      "cell_type": "markdown",
      "metadata": {
        "id": "view-in-github",
        "colab_type": "text"
      },
      "source": [
        "<a href=\"https://colab.research.google.com/github/Gabriel-Machado-GM/Online-Judge-Solutions-Python/blob/main/UVA12100.ipynb\" target=\"_parent\"><img src=\"https://colab.research.google.com/assets/colab-badge.svg\" alt=\"Open In Colab\"/></a>"
      ]
    },
    {
      "cell_type": "markdown",
      "source": [
        "## Simulação da Fila de Impressão com Prioridades\n",
        "\n",
        "O problema apresentado descreve um sistema de fila de impressão com prioridades, em que trabalhos com maior prioridade são impressos primeiro. O objetivo é calcular o tempo que um trabalho específico levará para ser impresso, dadas as prioridades dos trabalhos na fila.\n",
        "\n",
        "**Entendendo o Problema:**\n",
        "\n",
        "* **Prioridades:** Cada trabalho na fila possui uma prioridade associada, variando de 1 a 9, sendo 9 a mais alta.\n",
        "* **Funcionamento da Fila:** A impressora seleciona o primeiro trabalho da fila. Se houver algum outro trabalho com prioridade maior, o trabalho atual é movido para o final da fila. Caso contrário, o trabalho é impresso.\n",
        "* **Tempo de Impressão:** Assume-se que cada trabalho leva exatamente um minuto para ser impresso.\n",
        "\n",
        "**Formato da Entrada:**\n",
        "\n",
        "* **Número de Casos de Teste:** Uma linha com um inteiro positivo representando a quantidade de casos de teste a serem processados.\n",
        "* **Dados de cada Caso de Teste:**\n",
        "    * Uma linha contendo dois inteiros: `n` (número de trabalhos na fila, 1 ≤ n ≤ 100) e `m` (posição do seu trabalho na fila, 0 ≤ m ≤ n-1).\n",
        "    * Uma linha com `n` inteiros, representando as prioridades dos trabalhos na fila.\n",
        "\n",
        "**Formato da Saída:**\n",
        "\n",
        "Para cada caso de teste, o programa deve imprimir uma linha contendo um único inteiro: o número de minutos até que o seu trabalho seja completamente impresso.\n",
        "\n",
        "**Exemplo:**\n",
        "\n",
        "```\n",
        "Sample Input:\n",
        "3\n",
        "1 0\n",
        "5\n",
        "4 2\n",
        "1 2 3 4\n",
        "6 0\n",
        "1 1 9 1 1 1\n",
        "\n",
        "Sample Output:\n",
        "1\n",
        "2\n",
        "5\n",
        "```\n",
        "\n",
        "**Analisando o Exemplo:**\n",
        "\n",
        "* **Caso 1:** Com apenas um trabalho na fila (e sendo ele o seu), o tempo de impressão é de 1 minuto.\n",
        "* **Caso 2:** Seu trabalho está na posição 2 (índice 1), com prioridade 2. Como o trabalho na posição 0 possui prioridade 1, seu trabalho será impresso após o primeiro, resultando em um tempo de impressão de 2 minutos.\n",
        "* **Caso 3:** Seu trabalho está na posição 0, com prioridade 1. No entanto, há um trabalho com prioridade 9 na fila. Seu trabalho só será impresso após todos os outros, totalizando um tempo de impressão de 5 minutos.\n",
        "\n",
        "**Observações:**\n",
        "\n",
        "* O problema assume que novos trabalhos não serão adicionados à fila durante a simulação.\n",
        "* A manipulação da fila (adição e remoção de trabalhos) é considerada instantânea.\n"
      ],
      "metadata": {
        "id": "ZclmjkS7Lx8P"
      }
    },
    {
      "cell_type": "code",
      "execution_count": 1,
      "metadata": {
        "colab": {
          "base_uri": "https://localhost:8080/"
        },
        "id": "xTMjFFlXLH5g",
        "outputId": "c3aee655-55a7-4216-edc2-33153c82ed43"
      },
      "outputs": [
        {
          "output_type": "stream",
          "name": "stdout",
          "text": [
            "3\n",
            "1 0\n",
            "5\n",
            "1\n",
            "4 2\n",
            "1 2 3 4\n",
            "2\n",
            "6 0\n",
            "1 1 9 1 1 1\n",
            "5\n"
          ]
        }
      ],
      "source": [
        "from collections import deque\n",
        "t = int(input())\n",
        "\n",
        "for _ in range(t):\n",
        "    n, m = map(int, input().split())\n",
        "    prioridades = list(map(int, input().split()))\n",
        "    queue = deque((i, prioridades[i]) for i in range(n))\n",
        "    count = 0\n",
        "    while queue:\n",
        "        i, prioridades = queue.popleft()\n",
        "        if any(prioridades < p for _, p in queue):\n",
        "            queue.append((i, prioridades))\n",
        "        else:\n",
        "            count += 1\n",
        "            if i == m :\n",
        "                print(count)\n",
        "                break"
      ]
    }
  ]
}