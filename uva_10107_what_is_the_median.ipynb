{
  "nbformat": 4,
  "nbformat_minor": 0,
  "metadata": {
    "colab": {
      "provenance": [],
      "authorship_tag": "ABX9TyM/AfS0JNqqOw6QrN+enF4i",
      "include_colab_link": true
    },
    "kernelspec": {
      "name": "python3",
      "display_name": "Python 3"
    },
    "language_info": {
      "name": "python"
    }
  },
  "cells": [
    {
      "cell_type": "markdown",
      "metadata": {
        "id": "view-in-github",
        "colab_type": "text"
      },
      "source": [
        "<a href=\"https://colab.research.google.com/github/Gabriel-Machado-GM/Online-Judge-Solutions-Python/blob/main/uva_10107_what_is_the_median.ipynb\" target=\"_parent\"><img src=\"https://colab.research.google.com/assets/colab-badge.svg\" alt=\"Open In Colab\"/></a>"
      ]
    },
    {
      "cell_type": "markdown",
      "source": [
        "# UVA 10107 - What is the Median?\n",
        "\n",
        "[PDF Online Judge ORG](https://onlinejudge.org/external/101/10107.pdf)\n",
        "\n",
        "![image.png](data:image/png;base64,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)\n",
        "## Problem Description\n",
        "\n",
        "Median plays an important role in the world of statistics. [cite: 1, 2] By definition, it is a value which divides an array into two equal parts. [cite: 2]\n",
        "\n",
        "In this problem, you are to determine the current median of some long integers. [cite: 3]\n",
        "\n",
        "Suppose we have five numbers {1, 3, 6, 2, 7}. [cite: 3] In this case, 3 is the median as it has exactly two numbers on each side: {1, 2} and {6, 7}. [cite: 3, 4]\n",
        "\n",
        "If there are an even number of values like {1, 3, 6, 2, 7, 8}, only one value cannot split this array into equal two parts, so we consider the average of the middle values {3, 6}. [cite: 5] Thus, the median will be $(3 + 6) / 2 = 4.5$. [cite: 6] In this problem, you have to print only the integer part, not the fractional. [cite: 6, 7] As a result, according to this problem, the median will be 4! [cite: 7]\n",
        "\n",
        "## Input\n",
        "\n",
        "The input file consists of a series of integers $X$ ($0 \\le X < 2^{31}$) and the total number of integers N is less than 10000. [cite: 8] The numbers may have leading or trailing spaces. [cite: 8]\n",
        "\n",
        "## Output\n",
        "\n",
        "For each input, print the current value of the median. [cite: 9]\n",
        "\n",
        "## Sample Input\n",
        "\n",
        "1\\\n",
        "3\\\n",
        "4\\\n",
        "60\\\n",
        "70\\\n",
        "50\\\n",
        "2\n",
        "\n",
        "## Sample Output\n",
        "\n",
        "1 \\\n",
        "2\\\n",
        "3\\\n",
        "3\\\n",
        "4\\\n",
        "27\\\n",
        "4"
      ],
      "metadata": {
        "id": "q7PzJNRl93kI"
      }
    },
    {
      "cell_type": "code",
      "execution_count": null,
      "metadata": {
        "colab": {
          "base_uri": "https://localhost:8080/",
          "height": 471
        },
        "id": "-SEscsJz5cQr",
        "outputId": "a7b1b7f2-d29f-4cb9-d5e8-55d7705bd8ab"
      },
      "outputs": [
        {
          "name": "stdout",
          "output_type": "stream",
          "text": [
            "1\n",
            "1\n",
            "3\n",
            "2\n",
            "4\n",
            "3\n",
            "60\n",
            "3\n",
            "70\n",
            "4\n",
            "50\n",
            "27\n",
            "2\n",
            "4\n",
            "\n"
          ]
        },
        {
          "output_type": "error",
          "ename": "ValueError",
          "evalue": "invalid literal for int() with base 10: ''",
          "traceback": [
            "\u001b[0;31m---------------------------------------------------------------------------\u001b[0m",
            "\u001b[0;31mValueError\u001b[0m                                Traceback (most recent call last)",
            "\u001b[0;32m<ipython-input-1-0059def2aabd>\u001b[0m in \u001b[0;36m<cell line: 0>\u001b[0;34m()\u001b[0m\n\u001b[1;32m      5\u001b[0m \u001b[0;32mwhile\u001b[0m \u001b[0;32mTrue\u001b[0m\u001b[0;34m:\u001b[0m\u001b[0;34m\u001b[0m\u001b[0;34m\u001b[0m\u001b[0m\n\u001b[1;32m      6\u001b[0m   \u001b[0;32mtry\u001b[0m\u001b[0;34m:\u001b[0m\u001b[0;34m\u001b[0m\u001b[0;34m\u001b[0m\u001b[0m\n\u001b[0;32m----> 7\u001b[0;31m     \u001b[0mnumber\u001b[0m \u001b[0;34m=\u001b[0m \u001b[0mint\u001b[0m\u001b[0;34m(\u001b[0m\u001b[0minput\u001b[0m\u001b[0;34m(\u001b[0m\u001b[0;34m)\u001b[0m\u001b[0;34m)\u001b[0m\u001b[0;34m\u001b[0m\u001b[0;34m\u001b[0m\u001b[0m\n\u001b[0m\u001b[1;32m      8\u001b[0m     \u001b[0mbisect\u001b[0m\u001b[0;34m.\u001b[0m\u001b[0minsort_right\u001b[0m\u001b[0;34m(\u001b[0m\u001b[0mnumbers\u001b[0m\u001b[0;34m,\u001b[0m \u001b[0mnumber\u001b[0m\u001b[0;34m)\u001b[0m\u001b[0;34m\u001b[0m\u001b[0;34m\u001b[0m\u001b[0m\n\u001b[1;32m      9\u001b[0m     \u001b[0mnum_items\u001b[0m \u001b[0;34m+=\u001b[0m \u001b[0;36m1\u001b[0m\u001b[0;34m\u001b[0m\u001b[0;34m\u001b[0m\u001b[0m\n",
            "\u001b[0;31mValueError\u001b[0m: invalid literal for int() with base 10: ''"
          ]
        }
      ],
      "source": [
        "import bisect\n",
        "\n",
        "numbers = []\n",
        "num_items = 0\n",
        "while True:\n",
        "  try:\n",
        "    number = int(input())\n",
        "    bisect.insort_right(numbers, number)\n",
        "    num_items += 1\n",
        "\n",
        "    if num_items & 1:\n",
        "      print(numbers[num_items//2])\n",
        "    else:\n",
        "      print( (numbers[num_items//2] + numbers[num_items//2-1]) // 2)\n",
        "  except(EOFError):\n",
        "    break"
      ]
    },
    {
      "cell_type": "markdown",
      "source": [
        "## Importing the bisect module\n",
        "```\n",
        " import bisect\n",
        "```\n",
        "*   This line imports the bisect module. This\n",
        "module provides functions for maintaining a list in sorted order without having to re-sort it every time a new item is inserted. This makes it very efficient for our task of finding the median since the median requires a sorted list.\n",
        "\n",
        "## Initializing Variables\n",
        "```\n",
        "numbers = []\n",
        "num_items = 0\n",
        "```\n",
        "*   numbers: This is an empty list that will store the numbers we input.\n",
        "*   num_items: This variable is initialized to 0 and keeps track of the number of items added to the numbers list.\n",
        "\n",
        "## The Main Loop\n",
        "\n",
        "```\n",
        "while True:\n",
        "  try:\n",
        "    # ... (code inside the loop) ...\n",
        "  except(EOFError):\n",
        "    break\n",
        "```\n",
        "\n",
        "*   This while True: loop is designed to run indefinitely until a specific condition (in this case, encountering the end of the input) causes it to break.\n",
        "*   The try: and except(EOFError): blocks handle the situation where the input stream ends (EOF - End Of File). When the program reaches the end of the input, it will raise an EOFError, causing the loop to break and the program to terminate gracefully.\n",
        "\n",
        "## Processing Each Input Number\n",
        "```\n",
        "number = int(input())\n",
        "bisect.insort_right(numbers, number)\n",
        "num_items += 1\n",
        "```\n",
        "*   number = int(input()): This line reads a line of input from the user, converts it to an integer, and stores it in the number variable.\n",
        "*   bisect.insort_right(numbers, number): This is the key to efficiency. This function inserts the number into the numbers list while keeping the list sorted. insort_right inserts the element to the right of any existing elements with the same value.\n",
        "*   num_items += 1: This line increments the counter num_items by 1 to reflect the addition of a new number.\n",
        "\n",
        "## Calculating and Printing the Median\n",
        "```\n",
        "if num_items & 1:\n",
        "  print(numbers[num_items//2])\n",
        "else:\n",
        "  print( (numbers[num_items//2] + numbers[num_items//2-1]) // 2)\n",
        "```\n",
        "*   if num_items & 1:: This line checks if num_items is odd. The & operator performs a bitwise \"and\" operation. If num_items is odd, the result will be 1 (True); otherwise, it will be 0 (False).\n",
        "*   print(numbers[num_items//2]): If num_items is odd, this line prints the middle element of the numbers list (which is the median). // performs integer division, ensuring the index is a whole number.\n",
        "*   else:: This block executes if num_items is even.\n",
        "*   print( (numbers[num_items//2] + numbers[num_items//2-1]) // 2): If num_items is even, this line calculates the average of the two middle elements in the numbers list (again using integer division // to discard any fractional part) and prints the result, which is the median for an even number of items.\n",
        "\n"
      ],
      "metadata": {
        "id": "jfQEub-rTd9K"
      }
    }
  ]
}