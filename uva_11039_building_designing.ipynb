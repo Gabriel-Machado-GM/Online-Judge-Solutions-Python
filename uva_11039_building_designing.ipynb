{
  "nbformat": 4,
  "nbformat_minor": 0,
  "metadata": {
    "colab": {
      "provenance": [],
      "authorship_tag": "ABX9TyPI2zywE5cx1cbaTUxvoFfu",
      "include_colab_link": true
    },
    "kernelspec": {
      "name": "python3",
      "display_name": "Python 3"
    },
    "language_info": {
      "name": "python"
    }
  },
  "cells": [
    {
      "cell_type": "markdown",
      "metadata": {
        "id": "view-in-github",
        "colab_type": "text"
      },
      "source": [
        "<a href=\"https://colab.research.google.com/github/Gabriel-Machado-GM/Online-Judge-Solutions-Python/blob/main/uva_11039_building_designing.ipynb\" target=\"_parent\"><img src=\"https://colab.research.google.com/assets/colab-badge.svg\" alt=\"Open In Colab\"/></a>"
      ]
    },
    {
      "cell_type": "markdown",
      "source": [
        "![image.png](data:image/png;base64,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)\n",
        "\n",
        "**@PDF: [UVA 11039 - Building designing](https://onlinejudge.org/external/110/11039.pdf)** \\\n",
        "**@AUTOR: [GABRIEL MACHADO](https://github.com/Gabriel-Machado-GM)** \\\n",
        "**@REPO: [ONLINE JUDGE SOLUTIONS PYTHON](https://github.com/Gabriel-Machado-GM/Online-Judge-Solutions-Python)**\n",
        "\n",
        "\n",
        "# UVA 11039 Building designing\n",
        "\n",
        "An architect wants to design a very high building. The building will consist of some floors, and each floor has a certain size. The size of a floor must be greater than the size of the floor immediately above it. In addition, the designer (who is a fan of a famous Spanish football team) wants to paint the building in blue and red, each floor a colour, and in such a way that the colours of two consecutive floors are different.\n",
        "\n",
        "To design the building the architect has n available floors, with their associated sizes and colours. All the available floors are of different sizes. The architect wants to design the highest possible building with these restrictions, using the available floors.\n",
        "\n",
        "## Input\n",
        "\n",
        "The input file consists of a first line with the number p of cases to solve. The first line of each case contains the number of available floors. Then, the size and colour of each floor appear in one line. Each floor is represented with an integer between -999999 and 999999. There is no floor with size 0. Negative numbers represent red floors and positive numbers blue floors. The size of the floor is the absolute value of the number. There are not two floors with the same size. The maximum number of floors for a problem is 500000.\n",
        "\n",
        "## Output\n",
        "\n",
        "For each case the output will consist of a line with the number of floors of the highest building with the mentioned conditions.\n",
        "\n",
        "## Sample Input\n",
        "\n",
        "2\\\n",
        "5\\\n",
        "7\\\n",
        "-2\\\n",
        "6\\\n",
        "9\\\n",
        "-3\\\n",
        "8\\\n",
        "11\\\n",
        "-9\\\n",
        "2\\\n",
        "5\\\n",
        "18\\\n",
        "17\\\n",
        "-15\\\n",
        "4\n",
        "\n",
        "\n",
        "## Sample Output\n",
        "\n",
        "2\\\n",
        "5"
      ],
      "metadata": {
        "id": "F7qWx0i4QN2O"
      }
    },
    {
      "cell_type": "code",
      "execution_count": null,
      "metadata": {
        "id": "bNpeXqppQMYL"
      },
      "outputs": [],
      "source": [
        "# Read the total number of test cases to process.\n",
        "num_tests = int(input())\n",
        "\n",
        "# Loop through each test case.\n",
        "for test in range(num_tests):\n",
        "  # Read the number of blocks for the current test case.\n",
        "  num_blocks = int(input())\n",
        "\n",
        "  # Initialize an empty list to store the processed blocks.\n",
        "  blocks = []\n",
        "\n",
        "  # Read each block value for the current test case.\n",
        "  for i in range(num_blocks):\n",
        "    # Read the integer value of the block.\n",
        "    block = int(input())\n",
        "\n",
        "    # Process the block value to store its absolute value and sign.\n",
        "    if block > 0:\n",
        "      # If the block is positive, store it as (value, +1).\n",
        "      blocks.append((block, 1))\n",
        "    else:\n",
        "      # If the block is zero or negative, store it as (absolute_value, -1).\n",
        "      # Note: If block is 0, this stores (0, -1). If the problem assumes non-zero,\n",
        "      # this detail might matter. Assuming 0 is treated as negative for sign purposes here.\n",
        "      blocks.append((-1 * block, -1)) # -1 * block gives the absolute value if block <= 0\n",
        "\n",
        "  # Sort the list of blocks.\n",
        "  # The key for sorting is a lambda function `lambda x: x[0]`, which means\n",
        "  # sort based on the first element of each tuple (the absolute value).\n",
        "  # The sort will be in ascending order of absolute values.\n",
        "  blocks = sorted(blocks, key=lambda x: x[0])\n",
        "\n",
        "  # --- Calculate the result (number of alternating sign groups) ---\n",
        "\n",
        "  # Handle the edge case where there are no blocks.\n",
        "  if len(blocks) < 1:\n",
        "    total = 0 # No blocks means zero groups.\n",
        "  else:\n",
        "    # If there are blocks, we start with at least one group.\n",
        "    total = 1\n",
        "    # Initialize the 'current sign' tracker with the sign of the first block\n",
        "    # in the sorted list (the one with the smallest absolute value).\n",
        "    sign = blocks[0][1] # Get the sign (1 or -1) from the first tuple\n",
        "\n",
        "    # Iterate through the rest of the sorted blocks, starting from the second block.\n",
        "    for block_tuple in blocks[1:]:\n",
        "      # Check if the sign of the current block (block_tuple[1])\n",
        "      # is different from the sign of the current group ('sign').\n",
        "      if block_tuple[1] != sign:\n",
        "        # If the sign changes, it means a new group of alternating sign starts.\n",
        "        # Flip the 'current sign' tracker to the new sign.\n",
        "        sign *= -1 # Flips 1 to -1 or -1 to 1\n",
        "        # Increment the count of groups.\n",
        "        total += 1\n",
        "        # Note: We only care *that* the sign flipped, starting a new group.\n",
        "        # The value of 'sign' now reflects the sign of this new group.\n",
        "\n",
        "  # Print the total number of alternating sign groups found.\n",
        "  print(total)\n",
        "\n",
        "# End of processing for all test cases."
      ]
    }
  ]
}