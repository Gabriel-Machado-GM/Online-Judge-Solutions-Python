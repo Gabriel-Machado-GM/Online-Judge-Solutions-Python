{
  "nbformat": 4,
  "nbformat_minor": 0,
  "metadata": {
    "colab": {
      "provenance": [],
      "authorship_tag": "ABX9TyOPvOImTw609DPgZqZ5ymd/",
      "include_colab_link": true
    },
    "kernelspec": {
      "name": "python3",
      "display_name": "Python 3"
    },
    "language_info": {
      "name": "python"
    }
  },
  "cells": [
    {
      "cell_type": "markdown",
      "metadata": {
        "id": "view-in-github",
        "colab_type": "text"
      },
      "source": [
        "<a href=\"https://colab.research.google.com/github/Gabriel-Machado-GM/Online-Judge-Solutions-Python/blob/main/UVA484.ipynb\" target=\"_parent\"><img src=\"https://colab.research.google.com/assets/colab-badge.svg\" alt=\"Open In Colab\"/></a>"
      ]
    },
    {
      "cell_type": "markdown",
      "source": [
        "# UVA 484\n",
        "\n",
        "Gabriel Machado\n",
        "\n",
        "## Remoção de Duplicatas em Sequências de Inteiros\n",
        "\n",
        "O exercício pede a criação de um programa que **remove as duplicatas de uma sequência de inteiros e imprime a lista de inteiros únicos presentes na sequência de entrada, juntamente com o número de ocorrências de cada um.**\n",
        "\n",
        "### Formato de Entrada\n",
        "\n",
        "O arquivo de entrada conterá uma sequência de inteiros, que podem ser positivos, negativos ou zero. O tamanho do arquivo de entrada não é especificado e pode ser arbitrariamente longo.\n",
        "\n",
        "### Formato de Saída\n",
        "\n",
        "O programa deve gerar uma sequência de pares ordenados, separados por quebras de linha.\n",
        "* O primeiro elemento de cada par será um inteiro da sequência de entrada, representando um número único encontrado na sequência.\n",
        "* O segundo elemento será o número de vezes que esse inteiro específico apareceu na sequência de entrada.\n",
        "\n",
        "Os elementos em cada par devem ser separados por espaços. A ordem dos inteiros na saída deve ser a mesma ordem em que eles apareceram na sequência de entrada.\n",
        "\n",
        "### Exemplo\n",
        "\n",
        "**Entrada:**\n",
        "\n",
        "```\n",
        "3 1 2 2 1 3 5 3 3 2\n",
        "```\n",
        "\n",
        "**Saída:**\n",
        "\n",
        "```\n",
        "3 4\n",
        "1 2\n",
        "2 3\n",
        "5 1\n",
        "```\n",
        "\n",
        "**Análise do Exemplo**\n",
        "\n",
        "A saída mostra que o número **3** aparece **4 vezes** na sequência de entrada, o número **1** aparece **2 vezes**, o número **2** aparece **3 vezes** e o número **5** aparece **1 vez**. A ordem dos números na saída corresponde à ordem em que eles aparecem na entrada.\n"
      ],
      "metadata": {
        "id": "XQRiRtjDUeVc"
      }
    },
    {
      "cell_type": "code",
      "source": [
        "def contar_ocorrencias(sequencia):\n",
        "  \"\"\"\n",
        "  Conta as ocorrências de cada inteiro único em uma sequência.\n",
        "\n",
        "  Args:\n",
        "    sequencia: Uma lista de inteiros.\n",
        "\n",
        "  Returns:\n",
        "    Um dicionário onde as chaves são os inteiros únicos da sequência e os valores são suas contagens.\n",
        "  \"\"\"\n",
        "  ocorrencias = {}\n",
        "  for numero in sequencia:\n",
        "    if numero in ocorrencias:\n",
        "      ocorrencias[numero] += 1\n",
        "    else:\n",
        "      ocorrencias[numero] = 1\n",
        "  return ocorrencias\n",
        "\n",
        "def imprimir_resultado(ocorrencias):\n",
        "  \"\"\"\n",
        "  Imprime os pares ordenados (inteiro, contagem) no formato especificado.\n",
        "\n",
        "  Args:\n",
        "    ocorrencias: Um dicionário onde as chaves são inteiros únicos e os valores são suas contagens.\n",
        "  \"\"\"\n",
        "  for numero, contagem in ocorrencias.items():\n",
        "    print(f\"{numero} {contagem}\")\n",
        "\n",
        "# Lê a sequência de inteiros da entrada\n",
        "entrada = input().split()\n",
        "sequencia = [int(numero) for numero in entrada]\n",
        "\n",
        "# Conta as ocorrências de cada inteiro único\n",
        "ocorrencias = contar_ocorrencias(sequencia)\n",
        "\n",
        "# Imprime os resultados no formato especificado\n",
        "imprimir_resultado(ocorrencias)"
      ],
      "metadata": {
        "colab": {
          "base_uri": "https://localhost:8080/"
        },
        "id": "2DkeRc5tQenk",
        "outputId": "67c20a47-a9b2-4cec-b84b-a9905b0f4144"
      },
      "execution_count": 2,
      "outputs": [
        {
          "output_type": "stream",
          "name": "stdout",
          "text": [
            "3 1 2 2 1 3 5 3 3 2\n",
            "3 4\n",
            "1 2\n",
            "2 3\n",
            "5 1\n"
          ]
        }
      ]
    },
    {
      "cell_type": "code",
      "source": [
        "import sys\n",
        "from collections import defaultdict\n",
        "\n",
        "def main():\n",
        "    input_data = sys.stdin.read().split()  # Lê a entrada do usuário\n",
        "    counts = defaultdict(int)\n",
        "    order = []\n",
        "    for number in input_data:  # Conta as ocorrências de cada número\n",
        "        num = int(number)\n",
        "        if num not in counts:\n",
        "            order.append(num)\n",
        "        counts[num] += 1\n",
        "    for num in order:  # Imprime os resultados\n",
        "        print(num, counts[num])\n",
        "\n",
        "main()\n"
      ],
      "metadata": {
        "id": "dUYu7f-LR53u"
      },
      "execution_count": 6,
      "outputs": []
    }
  ]
}