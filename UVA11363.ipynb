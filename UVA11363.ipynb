{
  "nbformat": 4,
  "nbformat_minor": 0,
  "metadata": {
    "colab": {
      "provenance": [],
      "authorship_tag": "ABX9TyMmCiy2NeMaeHOUIsPmnZN7",
      "include_colab_link": true
    },
    "kernelspec": {
      "name": "python3",
      "display_name": "Python 3"
    },
    "language_info": {
      "name": "python"
    }
  },
  "cells": [
    {
      "cell_type": "markdown",
      "metadata": {
        "id": "view-in-github",
        "colab_type": "text"
      },
      "source": [
        "<a href=\"https://colab.research.google.com/github/Gabriel-Machado-GM/Online-Judge-Solutions-Python/blob/main/UVA11363.ipynb\" target=\"_parent\"><img src=\"https://colab.research.google.com/assets/colab-badge.svg\" alt=\"Open In Colab\"/></a>"
      ]
    },
    {
      "cell_type": "markdown",
      "source": [
        " [UVA 11363](https://onlinejudge.org/external/113/11363.pdf)\n",
        "\n",
        "given a set D of words you want to be able to quickly determine if any given query string q is present in the dictionary D or not.\n",
        "\n",
        "takes a string as input and outputs an integer between 0 and n − 1\n",
        "\n",
        "Next you allocate an empty hash table T of size n and for each word w\n",
        "in D, you set T[h(w)] = w\n",
        "\n",
        "Thus, given a query string q, you only need\n",
        "to calculate h(q) and see if T[h(q)] equals q, to determine if q is in the dictionary\n"
      ],
      "metadata": {
        "id": "zGYhqpPwXOJR"
      }
    },
    {
      "cell_type": "code",
      "source": [
        "# Dentro de um dicionário D temos todas as word's\n",
        "Dicionario = {}\n",
        "# INPUT é uma string\n",
        "string = input()\n",
        "\n",
        "# Preciso alocar uma tabela hash T de tamanho n para cada palavra w em D (dicionário) --> T[h(w)] = w\n",
        "for\n",
        "# Dado uma query string q --> calculamos h(q) e vemos se T[h(q)] == q para determinar se q está no dicionário\n",
        "\n",
        "# Média de tamanho dos dicionários √n-sized\n",
        "\n",
        "# OUTPUT é um inteiro entre 0 e n-1"
      ],
      "metadata": {
        "id": "pYiozwqMXPfo"
      },
      "execution_count": null,
      "outputs": []
    },
    {
      "cell_type": "code",
      "source": [
        "# Cuckoo Hashing\n",
        "# Usar funções hash h1 e h2\n",
        "\n",
        "# Cada string é mapeada para duas posições na tabela\n",
        "\n",
        "# Com a query string q computamos h1(q) e h2(q)\n",
        "\n",
        "# Se T[h1(q)] = q, ou T[h2(q)] = q, concluímos que q está em D\n",
        "\n",
        "# Iterando sobre as palavras d em D, e inserimos uma por uma\n",
        "\n",
        "    # Se T[h1(d)] está livre, definimos T[h1(d)] = d\n",
        "\n",
        "    # T[h2(d)] está livre, definimos T[h2(d)] = d\n",
        "\n",
        "    # Se os dois estão ocupados, você evita a palavra r em T[h1(d)] e define T[h1(d)] = d\n",
        "\n",
        "    # Depois ponha r de volta na table no lugar alternativo (and if that entry was already occupied you evict that word and move it to its alternative place, and so on)\n"
      ],
      "metadata": {
        "id": "m6QDQVJ3aFR2"
      },
      "execution_count": null,
      "outputs": []
    }
  ]
}