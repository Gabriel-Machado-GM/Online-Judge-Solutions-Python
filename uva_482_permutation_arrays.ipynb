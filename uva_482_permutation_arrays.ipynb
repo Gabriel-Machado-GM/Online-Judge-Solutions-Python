{
  "nbformat": 4,
  "nbformat_minor": 0,
  "metadata": {
    "colab": {
      "provenance": [],
      "authorship_tag": "ABX9TyOochEhi/qL4IZrs9T/dh9l",
      "include_colab_link": true
    },
    "kernelspec": {
      "name": "python3",
      "display_name": "Python 3"
    },
    "language_info": {
      "name": "python"
    }
  },
  "cells": [
    {
      "cell_type": "markdown",
      "metadata": {
        "id": "view-in-github",
        "colab_type": "text"
      },
      "source": [
        "<a href=\"https://colab.research.google.com/github/Gabriel-Machado-GM/Online-Judge-Solutions-Python/blob/main/uva_482_permutation_arrays.ipynb\" target=\"_parent\"><img src=\"https://colab.research.google.com/assets/colab-badge.svg\" alt=\"Open In Colab\"/></a>"
      ]
    },
    {
      "cell_type": "markdown",
      "source": [
        "![image.png](data:image/png;base64,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))\n",
        "\n",
        "**@PDF: [UVA 482 - Permutation Arrays](https://onlinejudge.org/external/4/482.pdf)** \\\n",
        "**@AUTOR: [GABRIEL MACHADO](https://github.com/Gabriel-Machado-GM)** \\\n",
        "**@REPO: [ONLINE JUDGE SOLUTIONS PYTHON](https://github.com/Gabriel-Machado-GM/Online-Judge-Solutions-Python)**\n",
        "\n",
        "\n",
        "# UVA 482 Permutation Arrays\n",
        "\n",
        "In many computer problems, it is necessary to permute data arrays. That is, the data in an array must be re-arranged in some specified order. One way to permute arbitrary data arrays is to specify the permutations with an index array to point out the position of the elements in the new array. Let x be an array that is to be permuted and let $x^{\\prime}$ be the permuted array. Then, we have the relationship between x and $x^{\\prime}$ that\n",
        "\n",
        "$x_{p_{i}}^{\\prime}=x_{i}.$\n",
        "\n",
        "## Input\n",
        "\n",
        "The input begins with a single positive integer on a line by itself indicating the number of the cases following, each of them as described below. This line is followed by a blank line, and there is also a blank line between two consecutive inputs.\n",
        "\n",
        "Each input set will contain two lines of numbers. The first line will be an index array p containing the integers 1...n, where n is the number of integers in the list. The numbers in the first line will have been permuted in some fashion. The second line will contain a list numbers in floating point format.\n",
        "\n",
        "## Output\n",
        "\n",
        "For each test case, the output must follow the description below. The outputs of two consecutive cases will be separated by a blank line.\n",
        "\n",
        "The output for this program will be the list of floating point numbers from the input set, ordered according to the permutation array from the input file. The output numbers must be printed one per line in the same format in which they each appeared in the input file.\n",
        "\n",
        "## Sample Input\n",
        "\n",
        "1\\\n",
        "\\\n",
        "3 1 2\\\n",
        "32.0 54.7 -2\n",
        "\n",
        "\n",
        "## Sample Output\n",
        "\n",
        "54.7\\\n",
        "-2\\\n",
        "32.0"
      ],
      "metadata": {
        "id": "kwlJ233VQx-a"
      }
    },
    {
      "cell_type": "code",
      "execution_count": null,
      "metadata": {
        "id": "oVHiu6EYQlCn"
      },
      "outputs": [],
      "source": [
        "# Import the OS-specific line separator character\n",
        "# This helps ensure the output has correct line breaks\n",
        "# regardless of whether the code runs on Windows, Linux, or macOS.\n",
        "# (\\n on Unix-like systems, \\r\\n on Windows)\n",
        "from os import linesep\n",
        "\n",
        "# Read the total number of test cases to process\n",
        "num_tests = int(input())\n",
        "\n",
        "# Loop through each test case\n",
        "for i in range(num_tests):\n",
        "  # Read and discard the blank line that often separates test cases in input formats.\n",
        "  input() # Skips the empty line between test cases\n",
        "\n",
        "  # Read the permutation mapping.\n",
        "  # The input is expected to be a line of space-separated integers.\n",
        "  # 'map(int, ...)' converts each space-separated string into an integer.\n",
        "  # 'list(...)' collects these integers into a list.\n",
        "  # Example: Input \"3 1 2\" becomes perms = [3, 1, 2]\n",
        "  # This list indicates the *target position* (1-based index) for each element.\n",
        "  perms = list(map(int, input().split()))\n",
        "\n",
        "  # Read the actual values (as strings) that need to be reordered.\n",
        "  # Input is expected to be a line of space-separated strings.\n",
        "  # 'map(str, ...)' ensures each item is treated as a string (though input().split() already gives strings).\n",
        "  # Example: Input \"ValueC ValueA ValueB\" becomes nums = ['ValueC', 'ValueA', 'ValueB']\n",
        "  nums = list(map(str, input().split()))\n",
        "\n",
        "  # Create an output list 'out' with the same size as 'perms' (and 'nums').\n",
        "  # Initialize it with placeholders (here, 0s). This list will store the rearranged items.\n",
        "  # The length is determined by the number of elements in the permutation.\n",
        "  out = [0] * len(perms) # Could also use [None] * len(perms) or similar\n",
        "\n",
        "  # Iterate through the original indices (0 to length-1)\n",
        "  for j in range(len(perms)):\n",
        "    # The core rearrangement logic:\n",
        "    # 'perms[j]' gives the target position (1-based) for the item currently at index 'j' in the 'nums' list.\n",
        "    # Example: If j=0, perms[0] is 3.\n",
        "    # We subtract 1 to convert the 1-based target position to a 0-based index for the 'out' list.\n",
        "    # Example: target_index = perms[0] - 1 = 3 - 1 = 2.\n",
        "    target_index = perms[j] - 1\n",
        "\n",
        "    # 'nums[j]' is the actual value (string) from the original 'nums' list at index 'j'.\n",
        "    # Example: If j=0, nums[0] is 'ValueC'.\n",
        "    value_to_place = nums[j]\n",
        "\n",
        "    # Place the value into its correct position in the 'out' list.\n",
        "    # Example: out[2] = 'ValueC'\n",
        "    out[target_index] = value_to_place\n",
        "    # After the first iteration (j=0): out = [0, 0, 'ValueC']\n",
        "    # After j=1: perms[1]=1 -> target_index=0. nums[1]='ValueA'. out[0] = 'ValueA'. -> out = ['ValueA', 0, 'ValueC']\n",
        "    # After j=2: perms[2]=2 -> target_index=1. nums[2]='ValueB'. out[1] = 'ValueB'. -> out = ['ValueA', 'ValueB', 'ValueC']\n",
        "\n",
        "  # Join the elements of the rearranged 'out' list using the OS-specific line separator.\n",
        "  # This creates a single string where each element from 'out' is on a new line.\n",
        "  # Then print the resulting multi-line string.\n",
        "  print(linesep.join(out)) # Example output: ValueA\\nValueB\\nValueC\n",
        "\n",
        "  # Check if this is NOT the last test case.\n",
        "  if i != num_tests - 1:\n",
        "    # If it's not the last one, print a blank line to separate its output\n",
        "    # from the output of the next test case, as is common in competitive programming output formats.\n",
        "    print()"
      ]
    }
  ]
}