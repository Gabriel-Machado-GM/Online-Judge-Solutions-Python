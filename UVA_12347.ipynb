{
  "nbformat": 4,
  "nbformat_minor": 0,
  "metadata": {
    "colab": {
      "provenance": [],
      "authorship_tag": "ABX9TyOQu172gU/GloBPZztu/cxH",
      "include_colab_link": true
    },
    "kernelspec": {
      "name": "python3",
      "display_name": "Python 3"
    },
    "language_info": {
      "name": "python"
    }
  },
  "cells": [
    {
      "cell_type": "markdown",
      "metadata": {
        "id": "view-in-github",
        "colab_type": "text"
      },
      "source": [
        "<a href=\"https://colab.research.google.com/github/Gabriel-Machado-GM/Online-Judge-Solutions-Python/blob/main/UVA_12347.ipynb\" target=\"_parent\"><img src=\"https://colab.research.google.com/assets/colab-badge.svg\" alt=\"Open In Colab\"/></a>"
      ]
    },
    {
      "cell_type": "markdown",
      "source": [
        "# **Resolvam o seguinte problema: UVA 12347 - Binary Search Tree**\n",
        "\n",
        "**Entreguem o código python da solução e o print da resposta do site UVA Online Judge**"
      ],
      "metadata": {
        "id": "1oHtV2q2WDtQ"
      }
    },
    {
      "cell_type": "markdown",
      "source": [
        "# 12347 Binary Search Tree\n",
        "\n",
        "A binary search tree is a binary tree that satisfies the following properties:\n",
        "\n",
        "- The left subtree of a node contains only nodes with keys less than the node’s key.\n",
        "- The right subtree of a node contains only nodes with keys greater than the node’s key.\n",
        "- Both the left and right subtrees must also be binary search trees.\n",
        "\n",
        "\n",
        "![image.png](data:image/png;base64,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)\n",
        "## Pre-order and Post-order Traversals\n",
        "\n",
        "- **Pre-order traversal** (Root-Left-Right) prints out the nodes' keys by visiting the root node, then traversing the left subtree, and then traversing the right subtree.\n",
        "- **Post-order traversal** (Left-Right-Root) prints out the left subtree first, then the right subtree, and finally the root node.\n",
        "\n",
        "### Example\n",
        "\n",
        "The results of pre-order traversal and post-order traversal of the binary tree shown in the figure below are as follows:\n",
        "\n",
        "- **Pre-order**: `50 30 24 5 28 45 98 52 60`\n",
        "- **Post-order**: `5 28 24 45 30 60 52 98 50`\n",
        "\n",
        "Given the pre-order traversal of a binary search tree, your task is to find the post-order traversal of this tree.\n",
        "\n",
        "## Input\n",
        "\n",
        "The keys of all nodes of the input binary search tree are given according to pre-order traversal. Each node has a key value, which is a positive integer less than 1,000,000. All values are given in separate lines (one integer per line). You can assume that a binary search tree does not contain more than 10,000 nodes and there are no duplicate nodes.\n",
        "\n",
        "## Output\n",
        "\n",
        "The output contains the result of post-order traversal of the input binary tree. Print out one key per line.\n",
        "\n",
        "## Sample Input\n",
        "```\n",
        "50  \n",
        "30  \n",
        "24  \n",
        "5  \n",
        "28  \n",
        "45  \n",
        "98  \n",
        "52  \n",
        "60\n",
        "```\n",
        "\n",
        "## Sample Output\n",
        "```\n",
        "5  \n",
        "28  \n",
        "24  \n",
        "45  \n",
        "30  \n",
        "60  \n",
        "52  \n",
        "98  \n",
        "50\n",
        "```\n"
      ],
      "metadata": {
        "id": "_v-lY2K1Wpk7"
      }
    },
    {
      "cell_type": "code",
      "source": [
        "import sys\n",
        "\n",
        "# Increase recursion limit\n",
        "sys.setrecursionlimit(10 ** 6)\n",
        "\n",
        "# Read pre-order traversal from input\n",
        "preorder = [50,30,24,5,28,45,98,52,60]\n",
        "for line in sys.stdin:\n",
        "  line = line.strip()\n",
        "  if line:\n",
        "    preorder.append(int(line))\n",
        "\n",
        "def post_order(start, end):\n",
        "  if start > end:\n",
        "    return\n",
        "  root = preorder[start]\n",
        "  idx = start + 1\n",
        "  # Find the index where right subtree starts (first value greater than root)\n",
        "  while idx <= end and preorder[idx] < root:\n",
        "    idx += 1\n",
        "    # Recursively process left subtree\n",
        "  post_order(start + 1, idx - 1)\n",
        "    # Recursively process right subtree\n",
        "  post_order(idx, end)\n",
        "    # Output root nod\n",
        "  print(root)\n",
        "    # Call the recursive function starting from the full range\n",
        "post_order(0, len(preorder) - 1)"
      ],
      "metadata": {
        "id": "BwdPvMBpycBO",
        "outputId": "d12a9105-6695-4eaa-8453-7f97a8aeef6e",
        "colab": {
          "base_uri": "https://localhost:8080/"
        }
      },
      "execution_count": null,
      "outputs": [
        {
          "output_type": "stream",
          "name": "stdout",
          "text": [
            "5\n",
            "28\n",
            "24\n",
            "45\n",
            "30\n",
            "60\n",
            "52\n",
            "98\n",
            "50\n"
          ]
        }
      ]
    },
    {
      "source": [
        "# Importa o módulo sys, que fornece acesso a algumas variáveis e funções usadas ou mantidas pelo interpretador Python\n",
        "import sys\n",
        "\n",
        "# Define o limite máximo de recursão para 10000. Isso evita que o programa trave caso haja muitas chamadas recursivas\n",
        "sys.setrecursionlimit(10000)"
      ],
      "cell_type": "code",
      "metadata": {
        "id": "uZOgWhFpVPAp"
      },
      "execution_count": null,
      "outputs": []
    },
    {
      "cell_type": "code",
      "source": [
        "# Define a classe Node, que representa um nó em uma árvore binária\n",
        "class Node:\n",
        "    def __init__(self, value): # Construtor da classe Node\n",
        "        self.value = value # Valor do nó\n",
        "        self.left = None # Filho esquerdo do nó\n",
        "        self.right = None # Filho direito do nó"
      ],
      "metadata": {
        "id": "YUuIzjNlYQOU"
      },
      "execution_count": null,
      "outputs": []
    },
    {
      "cell_type": "code",
      "source": [
        "# Define a classe BinarySearchTree, que representa uma árvore binária de busca\n",
        "class BinarySearchTree:\n",
        "    def __init__(self): # Construtor da classe BinarySearchTree\n",
        "        self.root = None # Raiz da árvore\n",
        "\n",
        "    def insert(self, value): # Método para inserir um valor na árvore\n",
        "        if self.root is None: # Se a árvore estiver vazia, o novo nó se torna a raiz\n",
        "            self.root = Node(value)\n",
        "        else:\n",
        "            self._insert(self.root, value) # Chama o método _insert para inserir o valor recursivamente\n",
        "\n",
        "    def _insert(self, current_node, value): # Método recursivo para inserir um valor na árvore\n",
        "        if value < current_node.value: # Se o valor for menor que o valor do nó atual\n",
        "            if current_node.left is None: # Se o filho esquerdo do nó atual for None, insere o novo nó ali\n",
        "                current_node.left = Node(value)\n",
        "            else:\n",
        "                self._insert(current_node.left, value) # Chama _insert recursivamente para o filho esquerdo\n",
        "        else: # Se o valor for maior ou igual que o valor do nó atual\n",
        "            if current_node.right is None: # Se o filho direito do nó atual for None, insere o novo nó ali\n",
        "                current_node.right = Node(value)\n",
        "            else:\n",
        "                self._insert(current_node.right, value) # Chama _insert recursivamente para o filho direito\n",
        "\n",
        "    def post_order_traversal(self, node): # Método para percorrer a árvore em pós-ordem\n",
        "        if node is not None: # Se o nó não for None\n",
        "            self.post_order_traversal(node.left) # Chama recursivamente para o filho esquerdo\n",
        "            self.post_order_traversal(node.right) # Chama recursivamente para o filho direito\n",
        "            print(node.value) # Imprime o valor do nó"
      ],
      "metadata": {
        "id": "NdCzpr92XnkV"
      },
      "execution_count": null,
      "outputs": []
    },
    {
      "cell_type": "code",
      "source": [
        "# Leitura da entrada e construção da árvore\n",
        "bst = BinarySearchTree() # Cria uma instância da classe BinarySearchTree\n",
        "try: # Tenta executar o bloco de código\n",
        "    while True: # Loop infinito\n",
        "        line = input().strip() # Lê uma linha da entrada e remove espaços em branco do início e do fim\n",
        "        if not line: # Se a linha estiver vazia\n",
        "          break # Sai do loop\n",
        "        value = int(line) # Converte a linha para um inteiro\n",
        "        bst.insert(value) # Insere o valor na árvore\n",
        "except EOFError: # Captura a exceção EOFError, que ocorre quando o fim do arquivo é atingido\n",
        "    pass # Não faz nada"
      ],
      "metadata": {
        "colab": {
          "base_uri": "https://localhost:8080/"
        },
        "id": "AWhSEnt1XzYx",
        "outputId": "644f1226-df47-4507-a28f-cc08e18502a2"
      },
      "execution_count": null,
      "outputs": [
        {
          "name": "stdout",
          "output_type": "stream",
          "text": [
            "50\n",
            "30\n",
            "24\n",
            "5\n",
            "28\n",
            "45\n",
            "98\n",
            "52\n",
            "60\n",
            "\n"
          ]
        }
      ]
    },
    {
      "cell_type": "code",
      "source": [
        "# Impressão da árvore em pós-ordem\n",
        "bst.post_order_traversal(bst.root) # Chama o método post_order_traversal para imprimir a árvore em pós-ordem"
      ],
      "metadata": {
        "colab": {
          "base_uri": "https://localhost:8080/"
        },
        "id": "3cGPBxYgX3h7",
        "outputId": "b47a9ae7-364e-4097-c1e6-f41600d7dc4f"
      },
      "execution_count": null,
      "outputs": [
        {
          "output_type": "stream",
          "name": "stdout",
          "text": [
            "5\n",
            "28\n",
            "24\n",
            "45\n",
            "30\n",
            "60\n",
            "52\n",
            "98\n",
            "50\n"
          ]
        }
      ]
    }
  ]
}