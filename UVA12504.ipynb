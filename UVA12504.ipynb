{
  "nbformat": 4,
  "nbformat_minor": 0,
  "metadata": {
    "colab": {
      "provenance": [],
      "authorship_tag": "ABX9TyPooH6Os3rAw+SV/sDpqIfZ",
      "include_colab_link": true
    },
    "kernelspec": {
      "name": "python3",
      "display_name": "Python 3"
    },
    "language_info": {
      "name": "python"
    }
  },
  "cells": [
    {
      "cell_type": "markdown",
      "metadata": {
        "id": "view-in-github",
        "colab_type": "text"
      },
      "source": [
        "<a href=\"https://colab.research.google.com/github/Gabriel-Machado-GM/Online-Judge-Solutions-Python/blob/main/UVA12504.ipynb\" target=\"_parent\"><img src=\"https://colab.research.google.com/assets/colab-badge.svg\" alt=\"Open In Colab\"/></a>"
      ]
    },
    {
      "cell_type": "markdown",
      "source": [
        "# UVA 12504\n",
        "\n",
        "## Gabriel Machado\n",
        "\n",
        "Comparar dois dicionários e identificar as mudanças entre eles. O objetivo é determinar quais chaves foram adicionadas, removidas ou tiveram seus valores alterados.\n",
        "\n",
        "### Formato dos Dicionários\n",
        "\n",
        "```\n",
        "{chave:valor, chave:valor,..., chave:valor}\n",
        "```\n",
        "\n",
        "*   **Chaves:** Strings minúsculas sem espaços em branco.\n",
        "*   **Valores:** Inteiros não negativos, sem zeros à esquerda ou sinais de mais (+).\n",
        "\n",
        "### Entrada do Programa\n",
        "\n",
        "1.  Um número inteiro `T`, representando o número de casos de teste (T ≤ 1000).\n",
        "2.  Para cada caso de teste, duas linhas contendo os dicionários antigo e novo, respectivamente.\n",
        "    *   Cada linha terá no máximo 100 caracteres e não conterá espaços em branco.\n",
        "    *   Os dicionários podem estar vazios.\n",
        "    *   Não há restrições quanto ao tamanho das chaves e valores.\n",
        "\n",
        "### Saída do Programa\n",
        "\n",
        "1.  Se houver novas chaves, imprimir \"+\" seguido das chaves adicionadas em ordem alfabética, separadas por vírgulas.\n",
        "2.  Se houver chaves removidas, imprimir \"-\" seguido das chaves removidas em ordem alfabética, separadas por vírgulas.\n",
        "3.  Se houver chaves com valores alterados, imprimir \"\\*\" seguido das chaves modificadas em ordem alfabética, separadas por vírgulas.\n",
        "4.  Se os dicionários forem idênticos, imprimir \"No changes\".\n",
        "5.  Imprimir uma linha em branco após cada caso de teste.\n",
        "\n",
        "### Exemplo de Entrada e Saída\n",
        "\n",
        "**Entrada:**\n",
        "\n",
        "```\n",
        "3\n",
        "{a:3,b:4,c:10,f:6}\n",
        "{a:3,c:5,d:10,ee:4}\n",
        "{x:1,xyz:123456789123456789123456789}\n",
        "{xyz:123456789123456789123456789,x:1}\n",
        "{first:1,second:2,third:3}\n",
        "{third:3,second:2}\n",
        "```\n",
        "\n",
        "**Saída:**\n",
        "\n",
        "```\n",
        "+d,ee\n",
        "-b,f\n",
        "*c\n",
        "\n",
        "No changes\n",
        "\n",
        "-first\n",
        "```\n",
        "\n",
        "### Objetivo do Exercício\n",
        "\n",
        "O exercício visa avaliar a capacidade de manipular e comparar dicionários em Python, identificando e descrevendo as diferenças entre duas instâncias. A implementação da solução exige a compreensão de conceitos como iteração em dicionários, ordenação de chaves e comparação de valores.\n"
      ],
      "metadata": {
        "id": "XZHFOsAcTelp"
      }
    },
    {
      "cell_type": "code",
      "execution_count": 1,
      "metadata": {
        "colab": {
          "base_uri": "https://localhost:8080/"
        },
        "id": "-qV2MLbeTAM2",
        "outputId": "8a8d5773-2e3e-4e11-afa1-80432664326b"
      },
      "outputs": [
        {
          "output_type": "stream",
          "name": "stdout",
          "text": [
            "3\n",
            "{a:3,b:4,c:10,f:6}\n",
            "{a:3,c:5,d:10,ee:4}\n",
            "+d,ee\n",
            "-b,f\n",
            "*c\n",
            "\n",
            "{x:1,xyz:123456789123456789123456789}\n",
            "{xyz:123456789123456789123456789,x:1}\n",
            "No changes\n",
            "\n",
            "{first:1,second:2,third:3}\n",
            "{third:3,second:2}\n",
            "-first\n",
            "\n"
          ]
        }
      ],
      "source": [
        "def parse_dict(s):\n",
        "    s = s.strip('{}')\n",
        "    if not s:\n",
        "        return {}\n",
        "\n",
        "    items = s.split(',')\n",
        "\n",
        "    d = {}\n",
        "    for item in items:\n",
        "        key, value = item.split(':')\n",
        "        key = key.strip()\n",
        "        value = int(value.strip())\n",
        "        d[key] = value\n",
        "    return d\n",
        "\n",
        "def dicionarios_proc():\n",
        "    try:\n",
        "        t = int(input())\n",
        "        for _ in range(t):\n",
        "            dict1 = parse_dict(input().strip())\n",
        "            dict2 = parse_dict(input().strip())\n",
        "\n",
        "            added = []\n",
        "            removed = []\n",
        "            changed = []\n",
        "\n",
        "            for key in dict2:\n",
        "                if key not in dict1:\n",
        "                    added.append(key)\n",
        "\n",
        "            for key in dict1:\n",
        "                if key not in dict2:\n",
        "                    removed.append(key)\n",
        "\n",
        "            for key in dict1:\n",
        "                if key in dict2 and dict1[key] != dict2[key]:\n",
        "                    changed.append(key)\n",
        "\n",
        "            result = []\n",
        "            if added:\n",
        "                result.append(f\"+{','.join(sorted(added))}\")\n",
        "            if removed:\n",
        "                result.append(f\"-{','.join(sorted(removed))}\")\n",
        "            if changed:\n",
        "                result.append(f\"*{','.join(sorted(changed))}\")\n",
        "\n",
        "            if not result:\n",
        "                print(\"No changes\")\n",
        "            else:\n",
        "                print(\"\\n\".join(result))\n",
        "            print()\n",
        "    except EOFError:\n",
        "        pass\n",
        "\n",
        "if __name__ == \"__main__\":\n",
        "    dicionarios_proc()"
      ]
    }
  ]
}