{
  "nbformat": 4,
  "nbformat_minor": 0,
  "metadata": {
    "colab": {
      "provenance": [],
      "authorship_tag": "ABX9TyPARhNoQTEzObeenalXUvE0",
      "include_colab_link": true
    },
    "kernelspec": {
      "name": "python3",
      "display_name": "Python 3"
    },
    "language_info": {
      "name": "python"
    }
  },
  "cells": [
    {
      "cell_type": "markdown",
      "metadata": {
        "id": "view-in-github",
        "colab_type": "text"
      },
      "source": [
        "<a href=\"https://colab.research.google.com/github/Gabriel-Machado-GM/Online-Judge-Solutions-Python/blob/main/UVA673.ipynb\" target=\"_parent\"><img src=\"https://colab.research.google.com/assets/colab-badge.svg\" alt=\"Open In Colab\"/></a>"
      ]
    },
    {
      "cell_type": "markdown",
      "source": [
        "## Verificação de Parênteses e Colchetes\n",
        "\n",
        "O exercício pede para verificar se sequências de parênteses `()` e colchetes `[]` estão corretas. Uma sequência é considerada correta se:\n",
        "\n",
        "* **É vazia:**  `\"\"` (string vazia) é considerada correta.\n",
        "* **Combinação de sequências corretas:** Se `A` e `B` são sequências corretas, então a concatenação `AB` também é correta.\n",
        "* **Encapsulamento de sequência correta:** Se `A` é uma sequência correta, então `(A)` e `[A]` também são corretas.\n",
        "\n",
        "### Formato de Entrada\n",
        "\n",
        "* **`n`:** Um número inteiro positivo que indica a quantidade de sequências a serem analisadas.\n",
        "* **Sequências:** `n` linhas, cada uma contendo uma sequência de parênteses e colchetes.\n",
        "\n",
        "### Formato de Saída\n",
        "\n",
        "O programa deve gerar uma sequência de `'Yes'` ou `'No'`, um por linha, indicando se cada sequência de entrada é correta ou não.\n",
        "\n",
        "### Exemplo\n",
        "\n",
        "**Entrada:**\n",
        "\n",
        "```\n",
        "3\n",
        "([])\n",
        "(([()])))\n",
        "([()[]()])()\n",
        "```\n",
        "\n",
        "**Saída:**\n",
        "\n",
        "```\n",
        "Yes\n",
        "No\n",
        "Yes\n",
        "```\n",
        "\n",
        "**Análise do Exemplo:**\n",
        "\n",
        "* `([])`: Correta, pois encapsula uma sequência vazia com colchetes.\n",
        "* `(([()])))`: Incorreta, pois possui parênteses extras que não são abertos ou fechados corretamente.\n",
        "* `([()[]()])()`: Correta, pois combina sequências corretas e encapsula sequências com parênteses e colchetes de forma válida."
      ],
      "metadata": {
        "id": "6jv5fe2ENqJN"
      }
    },
    {
      "cell_type": "code",
      "execution_count": 1,
      "metadata": {
        "colab": {
          "base_uri": "https://localhost:8080/"
        },
        "id": "IxltxxTwNRz6",
        "outputId": "97678db5-0759-49ab-f27c-b246bc397e95"
      },
      "outputs": [
        {
          "output_type": "stream",
          "name": "stdout",
          "text": [
            "3\n",
            "([])\n",
            "Yes\n",
            "(([()])))\n",
            "No\n",
            "([()[]()])()\n",
            "Yes\n"
          ]
        }
      ],
      "source": [
        "def main():\n",
        "    n = int(input())\n",
        "    for _ in range(n):\n",
        "        verificar = []\n",
        "        s = input().strip()\n",
        "        for char in s:\n",
        "            if char in \"([\":\n",
        "               verificar.append(char)\n",
        "            elif char == ')':\n",
        "                if not verificar or verificar[-1] != '(':\n",
        "                    verificar.append('a')\n",
        "                    break\n",
        "                verificar.pop()\n",
        "            elif char == ']':\n",
        "                if not verificar or verificar[-1] != '[':\n",
        "                    verificar.append('a')\n",
        "                    break\n",
        "                verificar.pop()\n",
        "        if not verificar:\n",
        "            print(\"Yes\")\n",
        "        else:\n",
        "            print(\"No\")\n",
        "if __name__ == \"__main__\":\n",
        "    main()"
      ]
    }
  ]
}