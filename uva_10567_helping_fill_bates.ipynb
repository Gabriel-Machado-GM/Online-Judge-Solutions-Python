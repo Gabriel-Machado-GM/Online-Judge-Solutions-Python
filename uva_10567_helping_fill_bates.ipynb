{
  "nbformat": 4,
  "nbformat_minor": 0,
  "metadata": {
    "colab": {
      "provenance": [],
      "authorship_tag": "ABX9TyMicTz34+rImZtWyyQWMRky",
      "include_colab_link": true
    },
    "kernelspec": {
      "name": "python3",
      "display_name": "Python 3"
    },
    "language_info": {
      "name": "python"
    }
  },
  "cells": [
    {
      "cell_type": "markdown",
      "metadata": {
        "id": "view-in-github",
        "colab_type": "text"
      },
      "source": [
        "<a href=\"https://colab.research.google.com/github/Gabriel-Machado-GM/Online-Judge-Solutions-Python/blob/main/uva_10567_helping_fill_bates.ipynb\" target=\"_parent\"><img src=\"https://colab.research.google.com/assets/colab-badge.svg\" alt=\"Open In Colab\"/></a>"
      ]
    },
    {
      "cell_type": "markdown",
      "source": [
        "# UVA 10567 - Helping Fill Bates\n",
        "\n",
        "**@PDF: [UVA 10567 - Helping Fill Bates](https://onlinejudge.org/external/105/10567.pdf)** \\\n",
        "**@AUTOR: [GABRIEL MACHADO](https://github.com/Gabriel-Machado-GM)** \\\n",
        "**@REPO: [ONLINE JUDGE SOLUTIONS PYTHON](https://github.com/Gabriel-Machado-GM/Online-Judge-Solutions-Python)**\n",
        "\n",
        "![image.png](data:image/png;base64,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)\n",
        "\n",
        "## Problem Description\n",
        "\n",
        "Everyone knows Fill Bates but I guess fewer people know that he was famous in his high school days for a different reason. I just put below the exact lines from one of his short biographies:\n",
        "\n",
        "Before high-school graduation, Bates was renowned for designing the class scheduling software that placed him in a class full of girls. With his present success, those girls are probably mutilating themselves for not buying in on an early investment.\n",
        "\n",
        "Now you are to help him with a completely different purpose. His company has initiated a talent search program in QSA. It has 52 states (the original 50 states plus the two recent troublesome additions Oraq and Malistan). The candidates from the 52 states are given a state identity and a serial number (The serial number is unique). The state identities for the 52 states are the 52 ASCII characters A..Z and a..z. The talent search process is a bit strange. At most 1 million candidates stand in a single line according to the increasing order their serial number (Starting with 0 and then 1, 2, 3 etc) with a placard showing only their state identity (After all who wants to hire employees from Oraq and Malistan). Mr. Fill Gates then writes a sequence of characters (Only alphabets). If candidates are found in that order of states with increasing serial numbers (Some candidates may be skipped for this purpose) then those candidates are taken. Other wise an appropriate message is given.\n",
        "\n",
        "## Input\n",
        "\n",
        "The input file contains only one set of input. First line of the input file contains a string S containing only alphabets. The length of this string is at most 1000000. The next line contains an integer Q (0<Q<3501) which indicates the number of queries. Each of the next Q lines contain one string SS of length less than 101. These strings are the strings written by Fill Bates.\n",
        "\n",
        "## Output\n",
        "\n",
        "For each query you should output one line. If candidates are not found in the order written by Fill Bates then you should output a string 'Not matched' (Without the quotes), otherwise you should print 'Matched ' (Note that an space is printed after 'Matched') and then the serial of the first candidate in the subsequence and the serial of the last candidate of the subsequence. These two integers should be separated by a single space. If there is more than one such subsequence then choose the one which has smallest starting serial number. If there is a tie choose the one with the smallest ending serial number.\n",
        "\n",
        "## Sample Input\n",
        "\n",
        "aaaaaaaaaaaaaabbbbbbbbbdddddddddddccccccccccccc\\\n",
        "3\\\n",
        "aaaaaaaaaaaaaaaaaaa\\\n",
        "aaaaaaaaaaabbbbbbbbbbbc\\\n",
        "abccc\n",
        "\n",
        "\n",
        "## Sample Output\n",
        "\n",
        "Not matched\\\n",
        "Not matched\\\n",
        "Matched 0 36"
      ],
      "metadata": {
        "id": "ctaTntJ84O27"
      }
    },
    {
      "cell_type": "code",
      "source": [
        "from sys import stdin, stdout\n",
        "import time\n",
        "from bisect import bisect_right\n",
        "\n",
        "# Optimization: Use a faster input method\n",
        "def fast_input():\n",
        "    return stdin.readline().strip()\n",
        "\n",
        "# Function to find the leftmost value greater than x using binary search\n",
        "def find_gt(a, x):\n",
        "    i = bisect_right(a, x)\n",
        "    if i != len(a):\n",
        "        return a[i]\n",
        "    return -1\n",
        "\n",
        "# Main execution\n",
        "candidates = fast_input()\n",
        "indices = [[] for _ in range(ord('z') + 1)]\n",
        "\n",
        "# Preprocess the candidate string to build the indices\n",
        "for i, ch in enumerate(candidates):\n",
        "    indices[ord(ch)].append(i)\n",
        "\n",
        "n_queries = int(fast_input())\n",
        "\n",
        "for _ in range(n_queries):\n",
        "    query = fast_input()\n",
        "    global_index = -1\n",
        "    s = e = -1\n",
        "\n",
        "    for i, ch in enumerate(query):\n",
        "        global_index = find_gt(indices[ord(ch)], global_index)\n",
        "        if global_index == -1:\n",
        "            s = e = -1\n",
        "            break\n",
        "        if i == 0:\n",
        "            s = global_index\n",
        "        if i == len(query) - 1:\n",
        "            e = global_index\n",
        "\n",
        "    if s == -1 or e == -1:\n",
        "        stdout.write(\"Not matched\\n\")\n",
        "    else:\n",
        "        stdout.write(f\"Matched {s} {e}\\n\")\n"
      ],
      "metadata": {
        "id": "ma_Nsti-5M-1"
      },
      "execution_count": null,
      "outputs": []
    }
  ]
}