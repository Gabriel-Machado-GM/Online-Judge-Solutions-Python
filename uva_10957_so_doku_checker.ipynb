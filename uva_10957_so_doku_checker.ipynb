{
  "nbformat": 4,
  "nbformat_minor": 0,
  "metadata": {
    "colab": {
      "provenance": [],
      "authorship_tag": "ABX9TyNoXHy4rzefP/qZAsJhQUD7",
      "include_colab_link": true
    },
    "kernelspec": {
      "name": "python3",
      "display_name": "Python 3"
    },
    "language_info": {
      "name": "python"
    }
  },
  "cells": [
    {
      "cell_type": "markdown",
      "metadata": {
        "id": "view-in-github",
        "colab_type": "text"
      },
      "source": [
        "<a href=\"https://colab.research.google.com/github/Gabriel-Machado-GM/Online-Judge-Solutions-Python/blob/main/uva_10957_so_doku_checker.ipynb\" target=\"_parent\"><img src=\"https://colab.research.google.com/assets/colab-badge.svg\" alt=\"Open In Colab\"/></a>"
      ]
    },
    {
      "cell_type": "markdown",
      "source": [
        "# UVA 10957 - So Doku Checker\n",
        "\n",
        "**@PDF: [UVA 10957 - So Doku Checker](https://onlinejudge.org/external/109/10957.pdf)** \\\n",
        "**@AUTOR: [GABRIEL MACHADO](https://github.com/Gabriel-Machado-GM)** \\\n",
        "**@REPO: [ONLINE JUDGE SOLUTIONS PYTHON](https://github.com/Gabriel-Machado-GM/Online-Judge-Solutions-Python)**\n",
        "\n",
        "![image.png](data:image/png;base64,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)\n",
        "\n",
        "## Problem Description\n",
        "\n",
        "The best logical puzzles often are puzzles that are based on a simple idea. [cite: 1, 2] So Doku is one such type of puzzle. [cite: 2] Although So Dokus have been around for some twenty years, in the last few years they conquered the world exponentially. [cite: 3] Hundreds of newspapers and websites are now publishing them on a daily basis. [cite: 3] For those of you unfamiliar with these puzzles, let me give a brief introduction. [cite: 4, 5, 6, 7, 8]\n",
        "\n",
        "3 9   7 6\n",
        "4   6     9\n",
        "6 7 1     4\n",
        "2   6 7   9\n",
        "4 3 5 6\n",
        "1   4 9   7\n",
        "7   9 2   1\n",
        "3 2   4\n",
        "2 9   8 5\n",
        "\n",
        "\n",
        "The picture above contains an example of a Su Doku puzzle. [cite: 5, 6, 7, 8] As you can see, we have a $9 \\times 9$ grid filled with single digits from 1 to 9 and empty places. [cite: 6, 7, 8] The grid is further divided into nine $3 \\times 3$ sub-grids, indicated by the thick lines. [cite: 7, 8] To solve the puzzle you have to fill the empty places with digits according to the following rules:\n",
        "\n",
        "* Every row should contain the digits 1 to 9 exactly once; [cite: 8, 9, 10]\n",
        "* Every column should contain the digits 1 to 9 exactly once; [cite: 8, 9, 10]\n",
        "* Every $3 \\times 3$ sub-grid should contain the digits 1 to 9 exactly once. [cite: 8, 9, 10]\n",
        "\n",
        "A well formed Su Doku can be solved with paper and pencil using logical deduction only. [cite: 11, 12, 13] To be well formed it should be legal (no row, column or sub-grid contains a digit more than once), solvable (the empty places can all be filled while respecting the rules) and unique (there is only one solution). [cite: 11, 12, 13] This is what your program is going to check. [cite: 13, 14, 15, 16]\n",
        "\n",
        "## Input\n",
        "\n",
        "The input contains several (partially) filled grids, each representing a Su Doku puzzle. [cite: 13, 14, 15, 16] For every puzzle there are 9 lines with 9 digits giving the puzzle in row major order. [cite: 14, 15, 16] Empty places in the puzzle are represented by the digit '0' (zero). [cite: 15, 16] Digits on a line are separated by one space. [cite: 15, 16] The grids are separated by one empty line. [cite: 16, 17]\n",
        "\n",
        "The first grid in the sample input represents the puzzle given in the picture. [cite: 16, 17]\n",
        "\n",
        "## Output\n",
        "\n",
        "For every grid in the input, determine one of the following four verdicts:\n",
        "\n",
        "* 'Illegal' if the puzzle violates one of the three rules; [cite: 17, 18, 19, 20, 21, 22]\n",
        "* 'Unique' if only one solution exists; [cite: 17, 18, 19, 20, 21, 22]\n",
        "* 'Ambiguous' if more than one solution exists; [cite: 17, 18, 19, 20, 21, 22]\n",
        "* 'Impossible' if no solution exists; [cite: 17, 18, 19, 20, 21, 22]\n",
        "\n",
        "Print one line per grid, in the format: 'Case < N >: < VERDICT >.', where N is the case number, starting from 1, and VERDICT is one of the four words in the list. [cite: 20, 21, 22] See the sample output for the exact format. [cite: 20, 21, 22]\n",
        "\n",
        "Note: an 'Illegal' puzzle is also 'Impossible', of course, but your program should print 'Illegal' in that case. [cite: 21, 22] Only print 'Impossible' if the input doesn't violate one of the three rules, but the puzzle still can't be solved. [cite: 21, 22, 23, 24, 25]\n",
        "\n",
        "## Sample Input\n",
        "\n",
        "0 0 3 9 0 0 7 6 0\\\n",
        "0 4 0 0 0 6 0 0 9\\\n",
        "6 0 7 0 1 0 0 0 4\\\n",
        "2 0 0 6 7 0 0 9 0\\\n",
        "0 0 4 3 0 5 6 0 0\\\n",
        "0 1 0 0 4 9 0 0 7\\\n",
        "7 0 0 0 9 0 2 0 1\\\n",
        "3 0 0 2 0 0 0 4 0\\\n",
        "0 2 9 0 0 8 5 0 0\\\n",
        "\\\n",
        "0 0 3 9 0 0 7 6 0\\\n",
        "0 4 0 0 0 6 0 0 9\\\n",
        "6 0 0 0 1 0 0 0 4\\\n",
        "0 0 0 6 7 0 0 9 0\\\n",
        "0 0 4 0 0 5 6 0 0\\\n",
        "0 1 0 0 4 9 0 0 0\\\n",
        "7 0 0 0 9 0 2 0 1\\\n",
        "3 0 0 2 0 0 0 4 0\\\n",
        "0 2 0 0 0 8 5 0 0\\\n",
        "\\\n",
        "0 0 3 9 0 0 7 6 0\\\n",
        "0 4 0 0 0 6 0 0 9\\\n",
        "6 0 7 0 1 0 0 0 4\\\n",
        "2 0 0 6 7 0 0 9 0\\\n",
        "0 0 4 3 0 5 6 0 0\\\n",
        "0 1 0 0 4 9 0 0 7\\\n",
        "7 2 0 0 9 0 2 0 1\\\n",
        "3 0 0 2 0 0 0 4 0\\\n",
        "0 2 9 0 0 8 5 0 0\n",
        "\n",
        "\n",
        "## Sample Output\n",
        "\n",
        "Case 1: Unique.\\\n",
        "Case 2: Ambiguous.\\\n",
        "Case 3: Illegal.\\\n",
        "Case 4: Impossible."
      ],
      "metadata": {
        "id": "SZ3w_8VYApjq"
      }
    },
    {
      "cell_type": "code",
      "execution_count": null,
      "metadata": {
        "colab": {
          "base_uri": "https://localhost:8080/",
          "height": 228
        },
        "id": "ojnxnNAqAVoi",
        "outputId": "1c611ee8-6253-440a-b521-a2dbccaf44b0"
      },
      "outputs": [
        {
          "name": "stdout",
          "output_type": "stream",
          "text": [
            "0 0 3 9 0 0 7 6 0\n"
          ]
        },
        {
          "output_type": "error",
          "ename": "ValueError",
          "evalue": "invalid literal for int() with base 10: '0 0 3 9 0 0 7 6 0'",
          "traceback": [
            "\u001b[0;31m---------------------------------------------------------------------------\u001b[0m",
            "\u001b[0;31mValueError\u001b[0m                                Traceback (most recent call last)",
            "\u001b[0;32m<ipython-input-1-4b4b408c6368>\u001b[0m in \u001b[0;36m<cell line: 0>\u001b[0;34m()\u001b[0m\n\u001b[1;32m      2\u001b[0m \u001b[0;34m\u001b[0m\u001b[0m\n\u001b[1;32m      3\u001b[0m \u001b[0;32mwhile\u001b[0m \u001b[0;32mTrue\u001b[0m\u001b[0;34m:\u001b[0m\u001b[0;34m\u001b[0m\u001b[0;34m\u001b[0m\u001b[0m\n\u001b[0;32m----> 4\u001b[0;31m   \u001b[0mnum_numbers\u001b[0m \u001b[0;34m=\u001b[0m \u001b[0mint\u001b[0m\u001b[0;34m(\u001b[0m\u001b[0minput\u001b[0m\u001b[0;34m(\u001b[0m\u001b[0;34m)\u001b[0m\u001b[0;34m)\u001b[0m\u001b[0;34m\u001b[0m\u001b[0;34m\u001b[0m\u001b[0m\n\u001b[0m\u001b[1;32m      5\u001b[0m \u001b[0;34m\u001b[0m\u001b[0m\n\u001b[1;32m      6\u001b[0m   \u001b[0;32mif\u001b[0m \u001b[0mnum_numbers\u001b[0m \u001b[0;34m==\u001b[0m \u001b[0;36m0\u001b[0m\u001b[0;34m:\u001b[0m\u001b[0;34m\u001b[0m\u001b[0;34m\u001b[0m\u001b[0m\n",
            "\u001b[0;31mValueError\u001b[0m: invalid literal for int() with base 10: '0 0 3 9 0 0 7 6 0'"
          ]
        }
      ],
      "source": [
        "from heapq import heappush, heappop, heapify\n",
        "\n",
        "while True:\n",
        "  num_numbers = int(input())\n",
        "\n",
        "  if num_numbers == 0:\n",
        "    break\n",
        "\n",
        "  numbers = list(map(int, input().split()))\n",
        "\n",
        "  sol = 0\n",
        "  if num_numbers >= 2:\n",
        "    heapify(numbers)\n",
        "    sol = partial_sum = heappop(numbers) + heappop(numbers)\n",
        "    for j in range(num_numbers - 2) :\n",
        "      heappush(numbers, partial_sum)\n",
        "      partial_sum = heappop(numbers) + heappop(numbers)\n",
        "      sol += partial_sum\n",
        "\n",
        "  print(sol)"
      ]
    }
  ]
}