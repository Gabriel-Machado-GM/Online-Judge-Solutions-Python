{
  "nbformat": 4,
  "nbformat_minor": 0,
  "metadata": {
    "colab": {
      "provenance": [],
      "authorship_tag": "ABX9TyPJZL7RzhJ8Mfy8YmlyoLyJ",
      "include_colab_link": true
    },
    "kernelspec": {
      "name": "python3",
      "display_name": "Python 3"
    },
    "language_info": {
      "name": "python"
    }
  },
  "cells": [
    {
      "cell_type": "markdown",
      "metadata": {
        "id": "view-in-github",
        "colab_type": "text"
      },
      "source": [
        "<a href=\"https://colab.research.google.com/github/Gabriel-Machado-GM/Online-Judge-Solutions-Python/blob/main/uva_10957_so_doku_checker.ipynb\" target=\"_parent\"><img src=\"https://colab.research.google.com/assets/colab-badge.svg\" alt=\"Open In Colab\"/></a>"
      ]
    },
    {
      "cell_type": "markdown",
      "source": [
        "# UVA 10957 - So Doku Checker\n",
        "\n",
        "**@PDF: [UVA 10957 - So Doku Checker](https://onlinejudge.org/external/109/10957.pdf)** \\\n",
        "**@AUTOR: [GABRIEL MACHADO](https://github.com/Gabriel-Machado-GM)** \\\n",
        "**@REPO: [ONLINE JUDGE SOLUTIONS PYTHON](https://github.com/Gabriel-Machado-GM/Online-Judge-Solutions-Python)**\n",
        "\n",
        "\n",
        "\n",
        "## Problem Description\n",
        "\n",
        "The best logical puzzles often are puzzles that are based on a simple idea. [cite: 1, 2] So Doku is one such type of puzzle. [cite: 2] Although So Dokus have been around for some twenty years, in the last few years they conquered the world exponentially. [cite: 3] Hundreds of newspapers and websites are now publishing them on a daily basis. [cite: 3] For those of you unfamiliar with these puzzles, let me give a brief introduction. [cite: 4, 5, 6, 7, 8]\n",
        "\n",
        "3 9   7 6\n",
        "4   6     9\n",
        "6 7 1     4\n",
        "2   6 7   9\n",
        "4 3 5 6\n",
        "1   4 9   7\n",
        "7   9 2   1\n",
        "3 2   4\n",
        "2 9   8 5\n",
        "\n",
        "\n",
        "The picture above contains an example of a Su Doku puzzle. [cite: 5, 6, 7, 8] As you can see, we have a $9 \\times 9$ grid filled with single digits from 1 to 9 and empty places. [cite: 6, 7, 8] The grid is further divided into nine $3 \\times 3$ sub-grids, indicated by the thick lines. [cite: 7, 8] To solve the puzzle you have to fill the empty places with digits according to the following rules:\n",
        "\n",
        "* Every row should contain the digits 1 to 9 exactly once; [cite: 8, 9, 10]\n",
        "* Every column should contain the digits 1 to 9 exactly once; [cite: 8, 9, 10]\n",
        "* Every $3 \\times 3$ sub-grid should contain the digits 1 to 9 exactly once. [cite: 8, 9, 10]\n",
        "\n",
        "A well formed Su Doku can be solved with paper and pencil using logical deduction only. [cite: 11, 12, 13] To be well formed it should be legal (no row, column or sub-grid contains a digit more than once), solvable (the empty places can all be filled while respecting the rules) and unique (there is only one solution). [cite: 11, 12, 13] This is what your program is going to check. [cite: 13, 14, 15, 16]\n",
        "\n",
        "## Input\n",
        "\n",
        "The input contains several (partially) filled grids, each representing a Su Doku puzzle. [cite: 13, 14, 15, 16] For every puzzle there are 9 lines with 9 digits giving the puzzle in row major order. [cite: 14, 15, 16] Empty places in the puzzle are represented by the digit '0' (zero). [cite: 15, 16] Digits on a line are separated by one space. [cite: 15, 16] The grids are separated by one empty line. [cite: 16, 17]\n",
        "\n",
        "The first grid in the sample input represents the puzzle given in the picture. [cite: 16, 17]\n",
        "\n",
        "## Output\n",
        "\n",
        "For every grid in the input, determine one of the following four verdicts:\n",
        "\n",
        "* 'Illegal' if the puzzle violates one of the three rules; [cite: 17, 18, 19, 20, 21, 22]\n",
        "* 'Unique' if only one solution exists; [cite: 17, 18, 19, 20, 21, 22]\n",
        "* 'Ambiguous' if more than one solution exists; [cite: 17, 18, 19, 20, 21, 22]\n",
        "* 'Impossible' if no solution exists; [cite: 17, 18, 19, 20, 21, 22]\n",
        "\n",
        "Print one line per grid, in the format: 'Case < N >: < VERDICT >.', where N is the case number, starting from 1, and VERDICT is one of the four words in the list. [cite: 20, 21, 22] See the sample output for the exact format. [cite: 20, 21, 22]\n",
        "\n",
        "Note: an 'Illegal' puzzle is also 'Impossible', of course, but your program should print 'Illegal' in that case. [cite: 21, 22] Only print 'Impossible' if the input doesn't violate one of the three rules, but the puzzle still can't be solved. [cite: 21, 22, 23, 24, 25]\n",
        "\n",
        "## Sample Input\n",
        "\n",
        "0 0 3 9 0 0 7 6 0\\\n",
        "0 4 0 0 0 6 0 0 9\\\n",
        "6 0 7 0 1 0 0 0 4\\\n",
        "2 0 0 6 7 0 0 9 0\\\n",
        "0 0 4 3 0 5 6 0 0\\\n",
        "0 1 0 0 4 9 0 0 7\\\n",
        "7 0 0 0 9 0 2 0 1\\\n",
        "3 0 0 2 0 0 0 4 0\\\n",
        "0 2 9 0 0 8 5 0 0\\\n",
        "\\\n",
        "0 0 3 9 0 0 7 6 0\\\n",
        "0 4 0 0 0 6 0 0 9\\\n",
        "6 0 0 0 1 0 0 0 4\\\n",
        "0 0 0 6 7 0 0 9 0\\\n",
        "0 0 4 0 0 5 6 0 0\\\n",
        "0 1 0 0 4 9 0 0 0\\\n",
        "7 0 0 0 9 0 2 0 1\\\n",
        "3 0 0 2 0 0 0 4 0\\\n",
        "0 2 0 0 0 8 5 0 0\\\n",
        "\\\n",
        "0 0 3 9 0 0 7 6 0\\\n",
        "0 4 0 0 0 6 0 0 9\\\n",
        "6 0 7 0 1 0 0 0 4\\\n",
        "2 0 0 6 7 0 0 9 0\\\n",
        "0 0 4 3 0 5 6 0 0\\\n",
        "0 1 0 0 4 9 0 0 7\\\n",
        "7 2 0 0 9 0 2 0 1\\\n",
        "3 0 0 2 0 0 0 4 0\\\n",
        "0 2 9 0 0 8 5 0 0\n",
        "\n",
        "\n",
        "## Sample Output\n",
        "\n",
        "Case 1: Unique.\\\n",
        "Case 2: Ambiguous.\\\n",
        "Case 3: Illegal.\\\n",
        "Case 4: Impossible."
      ],
      "metadata": {
        "id": "SZ3w_8VYApjq"
      }
    },
    {
      "cell_type": "code",
      "execution_count": null,
      "metadata": {
        "colab": {
          "base_uri": "https://localhost:8080/",
          "height": 228
        },
        "id": "ojnxnNAqAVoi",
        "outputId": "1c611ee8-6253-440a-b521-a2dbccaf44b0"
      },
      "outputs": [
        {
          "name": "stdout",
          "output_type": "stream",
          "text": [
            "0 0 3 9 0 0 7 6 0\n"
          ]
        },
        {
          "output_type": "error",
          "ename": "ValueError",
          "evalue": "invalid literal for int() with base 10: '0 0 3 9 0 0 7 6 0'",
          "traceback": [
            "\u001b[0;31m---------------------------------------------------------------------------\u001b[0m",
            "\u001b[0;31mValueError\u001b[0m                                Traceback (most recent call last)",
            "\u001b[0;32m<ipython-input-1-4b4b408c6368>\u001b[0m in \u001b[0;36m<cell line: 0>\u001b[0;34m()\u001b[0m\n\u001b[1;32m      2\u001b[0m \u001b[0;34m\u001b[0m\u001b[0m\n\u001b[1;32m      3\u001b[0m \u001b[0;32mwhile\u001b[0m \u001b[0;32mTrue\u001b[0m\u001b[0;34m:\u001b[0m\u001b[0;34m\u001b[0m\u001b[0;34m\u001b[0m\u001b[0m\n\u001b[0;32m----> 4\u001b[0;31m   \u001b[0mnum_numbers\u001b[0m \u001b[0;34m=\u001b[0m \u001b[0mint\u001b[0m\u001b[0;34m(\u001b[0m\u001b[0minput\u001b[0m\u001b[0;34m(\u001b[0m\u001b[0;34m)\u001b[0m\u001b[0;34m)\u001b[0m\u001b[0;34m\u001b[0m\u001b[0;34m\u001b[0m\u001b[0m\n\u001b[0m\u001b[1;32m      5\u001b[0m \u001b[0;34m\u001b[0m\u001b[0m\n\u001b[1;32m      6\u001b[0m   \u001b[0;32mif\u001b[0m \u001b[0mnum_numbers\u001b[0m \u001b[0;34m==\u001b[0m \u001b[0;36m0\u001b[0m\u001b[0;34m:\u001b[0m\u001b[0;34m\u001b[0m\u001b[0;34m\u001b[0m\u001b[0m\n",
            "\u001b[0;31mValueError\u001b[0m: invalid literal for int() with base 10: '0 0 3 9 0 0 7 6 0'"
          ]
        }
      ],
      "source": [
        "from heapq import heappush, heappop, heapify\n",
        "\n",
        "while True:\n",
        "  num_numbers = int(input())\n",
        "\n",
        "  if num_numbers == 0:\n",
        "    break\n",
        "\n",
        "  numbers = list(map(int, input().split()))\n",
        "\n",
        "  sol = 0\n",
        "  if num_numbers >= 2:\n",
        "    heapify(numbers)\n",
        "    sol = partial_sum = heappop(numbers) + heappop(numbers)\n",
        "    for j in range(num_numbers - 2) :\n",
        "      heappush(numbers, partial_sum)\n",
        "      partial_sum = heappop(numbers) + heappop(numbers)\n",
        "      sol += partial_sum\n",
        "\n",
        "  print(sol)"
      ]
    },
    {
      "source": [
        "def solve_sudoku():\n",
        "    \"\"\"Solves a Sudoku puzzle and determines its solution status.\"\"\"\n",
        "\n",
        "    # Read the Sudoku grid\n",
        "    grid = []\n",
        "    for _ in range(9):\n",
        "        row = list(map(int, input().split()))\n",
        "        grid.append(row)\n",
        "\n",
        "    # Check if the grid is valid (basic check)\n",
        "    if not is_valid_grid(grid):\n",
        "        return \"Illegal\"\n",
        "\n",
        "    # Solve the Sudoku (implementation not provided here)\n",
        "    # ...\n",
        "\n",
        "    # Determine the solution status (implementation not provided here)\n",
        "    # ...\n",
        "\n",
        "def is_valid_grid(grid):\n",
        "    \"\"\"Checks if a Sudoku grid is valid based on basic rules.\"\"\"\n",
        "    for i in range(9):\n",
        "        for j in range(9):\n",
        "            if grid[i][j] != 0:\n",
        "                # Check row and column\n",
        "                if not is_valid_placement(grid, i, j, grid[i][j]):\n",
        "                    return False\n",
        "                # Check 3x3 subgrid\n",
        "                subgrid_row = (i // 3) * 3\n",
        "                subgrid_col = (j // 3) * 3\n",
        "                for row in range(subgrid_row, subgrid_row + 3):\n",
        "                    for col in range(subgrid_col, subgrid_col + 3):\n",
        "                        if row != i and col != j and grid[row][col] == grid[i][j]:\n",
        "                            return False\n",
        "    return True\n",
        "\n",
        "def is_valid_placement(grid, row, col, num):\n",
        "    \"\"\"Checks if placing a number in a cell is valid.\"\"\"\n",
        "    for i in range(9):\n",
        "        if grid[row][i] == num or grid[i][col] == num:\n",
        "            return False\n",
        "    return True\n",
        "\n",
        "# Main execution loop\n",
        "case_num = 1\n",
        "while True:\n",
        "    try:\n",
        "        # Read a line to check if it's empty (indicating end of input)\n",
        "        line = input()\n",
        "        if not line:  # Empty line found, break the loop\n",
        "            break\n",
        "        # If it's not empty, it's the first row of the Sudoku grid\n",
        "        # Reset the grid and add the first row\n",
        "        grid = []\n",
        "        grid.append(list(map(int, line.split())))\n",
        "        # Read the remaining rows of the grid\n",
        "        for _ in range(8):\n",
        "            row = list(map(int, input().split()))\n",
        "            grid.append(row)\n",
        "\n",
        "        # Process the Sudoku grid and print the result\n",
        "        result = solve_sudoku()  # Replace with actual solving logic\n",
        "        print(f\"Case {case_num}: {result}.\")\n",
        "        case_num += 1\n",
        "    except EOFError:\n",
        "        # Handle the end of file gracefully\n",
        "        break"
      ],
      "cell_type": "code",
      "metadata": {
        "colab": {
          "base_uri": "https://localhost:8080/",
          "height": 547
        },
        "id": "2jI4wvrTBICs",
        "outputId": "ae369c1b-ef35-4bd4-f1e9-78dc2be37a66"
      },
      "execution_count": null,
      "outputs": [
        {
          "name": "stdout",
          "output_type": "stream",
          "text": [
            "0 0 3 9 0 0 7 6 0\n",
            "0 4 0 0 0 6 0 0 9\n",
            " 6 0 7 0 1 0 0 0 4 \n",
            "2 0 0 6 7 0 0 9 0 \n",
            "0 0 4 3 0 5 6 0 0\n",
            "0 1 0 0 4 9 0 0 7\n",
            "7 0 0 0 9 0 2 0 1\n",
            "3 0 0 2 0 0 0 4 0\n",
            "0 2 9 0 0 8 5 0 0\n",
            "\n"
          ]
        },
        {
          "output_type": "error",
          "ename": "KeyboardInterrupt",
          "evalue": "Interrupted by user",
          "traceback": [
            "\u001b[0;31m---------------------------------------------------------------------------\u001b[0m",
            "\u001b[0;31mKeyboardInterrupt\u001b[0m                         Traceback (most recent call last)",
            "\u001b[0;32m<ipython-input-3-a9910fabf191>\u001b[0m in \u001b[0;36m<cell line: 0>\u001b[0;34m()\u001b[0m\n\u001b[1;32m     60\u001b[0m \u001b[0;34m\u001b[0m\u001b[0m\n\u001b[1;32m     61\u001b[0m         \u001b[0;31m# Process the Sudoku grid and print the result\u001b[0m\u001b[0;34m\u001b[0m\u001b[0;34m\u001b[0m\u001b[0m\n\u001b[0;32m---> 62\u001b[0;31m         \u001b[0mresult\u001b[0m \u001b[0;34m=\u001b[0m \u001b[0msolve_sudoku\u001b[0m\u001b[0;34m(\u001b[0m\u001b[0;34m)\u001b[0m  \u001b[0;31m# Replace with actual solving logic\u001b[0m\u001b[0;34m\u001b[0m\u001b[0;34m\u001b[0m\u001b[0m\n\u001b[0m\u001b[1;32m     63\u001b[0m         \u001b[0mprint\u001b[0m\u001b[0;34m(\u001b[0m\u001b[0;34mf\"Case {case_num}: {result}.\"\u001b[0m\u001b[0;34m)\u001b[0m\u001b[0;34m\u001b[0m\u001b[0;34m\u001b[0m\u001b[0m\n\u001b[1;32m     64\u001b[0m         \u001b[0mcase_num\u001b[0m \u001b[0;34m+=\u001b[0m \u001b[0;36m1\u001b[0m\u001b[0;34m\u001b[0m\u001b[0;34m\u001b[0m\u001b[0m\n",
            "\u001b[0;32m<ipython-input-3-a9910fabf191>\u001b[0m in \u001b[0;36msolve_sudoku\u001b[0;34m()\u001b[0m\n\u001b[1;32m      5\u001b[0m     \u001b[0mgrid\u001b[0m \u001b[0;34m=\u001b[0m \u001b[0;34m[\u001b[0m\u001b[0;34m]\u001b[0m\u001b[0;34m\u001b[0m\u001b[0;34m\u001b[0m\u001b[0m\n\u001b[1;32m      6\u001b[0m     \u001b[0;32mfor\u001b[0m \u001b[0m_\u001b[0m \u001b[0;32min\u001b[0m \u001b[0mrange\u001b[0m\u001b[0;34m(\u001b[0m\u001b[0;36m9\u001b[0m\u001b[0;34m)\u001b[0m\u001b[0;34m:\u001b[0m\u001b[0;34m\u001b[0m\u001b[0;34m\u001b[0m\u001b[0m\n\u001b[0;32m----> 7\u001b[0;31m         \u001b[0mrow\u001b[0m \u001b[0;34m=\u001b[0m \u001b[0mlist\u001b[0m\u001b[0;34m(\u001b[0m\u001b[0mmap\u001b[0m\u001b[0;34m(\u001b[0m\u001b[0mint\u001b[0m\u001b[0;34m,\u001b[0m \u001b[0minput\u001b[0m\u001b[0;34m(\u001b[0m\u001b[0;34m)\u001b[0m\u001b[0;34m.\u001b[0m\u001b[0msplit\u001b[0m\u001b[0;34m(\u001b[0m\u001b[0;34m)\u001b[0m\u001b[0;34m)\u001b[0m\u001b[0;34m)\u001b[0m\u001b[0;34m\u001b[0m\u001b[0;34m\u001b[0m\u001b[0m\n\u001b[0m\u001b[1;32m      8\u001b[0m         \u001b[0mgrid\u001b[0m\u001b[0;34m.\u001b[0m\u001b[0mappend\u001b[0m\u001b[0;34m(\u001b[0m\u001b[0mrow\u001b[0m\u001b[0;34m)\u001b[0m\u001b[0;34m\u001b[0m\u001b[0;34m\u001b[0m\u001b[0m\n\u001b[1;32m      9\u001b[0m \u001b[0;34m\u001b[0m\u001b[0m\n",
            "\u001b[0;32m/usr/local/lib/python3.11/dist-packages/ipykernel/kernelbase.py\u001b[0m in \u001b[0;36mraw_input\u001b[0;34m(self, prompt)\u001b[0m\n\u001b[1;32m   1175\u001b[0m                 \u001b[0;34m\"raw_input was called, but this frontend does not support input requests.\"\u001b[0m\u001b[0;34m\u001b[0m\u001b[0;34m\u001b[0m\u001b[0m\n\u001b[1;32m   1176\u001b[0m             )\n\u001b[0;32m-> 1177\u001b[0;31m         return self._input_request(\n\u001b[0m\u001b[1;32m   1178\u001b[0m             \u001b[0mstr\u001b[0m\u001b[0;34m(\u001b[0m\u001b[0mprompt\u001b[0m\u001b[0;34m)\u001b[0m\u001b[0;34m,\u001b[0m\u001b[0;34m\u001b[0m\u001b[0;34m\u001b[0m\u001b[0m\n\u001b[1;32m   1179\u001b[0m             \u001b[0mself\u001b[0m\u001b[0;34m.\u001b[0m\u001b[0m_parent_ident\u001b[0m\u001b[0;34m[\u001b[0m\u001b[0;34m\"shell\"\u001b[0m\u001b[0;34m]\u001b[0m\u001b[0;34m,\u001b[0m\u001b[0;34m\u001b[0m\u001b[0;34m\u001b[0m\u001b[0m\n",
            "\u001b[0;32m/usr/local/lib/python3.11/dist-packages/ipykernel/kernelbase.py\u001b[0m in \u001b[0;36m_input_request\u001b[0;34m(self, prompt, ident, parent, password)\u001b[0m\n\u001b[1;32m   1217\u001b[0m             \u001b[0;32mexcept\u001b[0m \u001b[0mKeyboardInterrupt\u001b[0m\u001b[0;34m:\u001b[0m\u001b[0;34m\u001b[0m\u001b[0;34m\u001b[0m\u001b[0m\n\u001b[1;32m   1218\u001b[0m                 \u001b[0;31m# re-raise KeyboardInterrupt, to truncate traceback\u001b[0m\u001b[0;34m\u001b[0m\u001b[0;34m\u001b[0m\u001b[0m\n\u001b[0;32m-> 1219\u001b[0;31m                 \u001b[0;32mraise\u001b[0m \u001b[0mKeyboardInterrupt\u001b[0m\u001b[0;34m(\u001b[0m\u001b[0;34m\"Interrupted by user\"\u001b[0m\u001b[0;34m)\u001b[0m \u001b[0;32mfrom\u001b[0m \u001b[0;32mNone\u001b[0m\u001b[0;34m\u001b[0m\u001b[0;34m\u001b[0m\u001b[0m\n\u001b[0m\u001b[1;32m   1220\u001b[0m             \u001b[0;32mexcept\u001b[0m \u001b[0mException\u001b[0m\u001b[0;34m:\u001b[0m\u001b[0;34m\u001b[0m\u001b[0;34m\u001b[0m\u001b[0m\n\u001b[1;32m   1221\u001b[0m                 \u001b[0mself\u001b[0m\u001b[0;34m.\u001b[0m\u001b[0mlog\u001b[0m\u001b[0;34m.\u001b[0m\u001b[0mwarning\u001b[0m\u001b[0;34m(\u001b[0m\u001b[0;34m\"Invalid Message:\"\u001b[0m\u001b[0;34m,\u001b[0m \u001b[0mexc_info\u001b[0m\u001b[0;34m=\u001b[0m\u001b[0;32mTrue\u001b[0m\u001b[0;34m)\u001b[0m\u001b[0;34m\u001b[0m\u001b[0;34m\u001b[0m\u001b[0m\n",
            "\u001b[0;31mKeyboardInterrupt\u001b[0m: Interrupted by user"
          ]
        }
      ]
    }
  ]
}