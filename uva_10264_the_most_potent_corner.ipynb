{
  "nbformat": 4,
  "nbformat_minor": 0,
  "metadata": {
    "colab": {
      "provenance": [],
      "authorship_tag": "ABX9TyOuFtAii12gmTFyETBP5nQm",
      "include_colab_link": true
    },
    "kernelspec": {
      "name": "python3",
      "display_name": "Python 3"
    },
    "language_info": {
      "name": "python"
    }
  },
  "cells": [
    {
      "cell_type": "markdown",
      "metadata": {
        "id": "view-in-github",
        "colab_type": "text"
      },
      "source": [
        "<a href=\"https://colab.research.google.com/github/Gabriel-Machado-GM/Online-Judge-Solutions-Python/blob/main/uva_10264_the_most_potent_corner.ipynb\" target=\"_parent\"><img src=\"https://colab.research.google.com/assets/colab-badge.svg\" alt=\"Open In Colab\"/></a>"
      ]
    },
    {
      "cell_type": "markdown",
      "source": [
        "# UVA 10264 - The Most Potent Corner\n",
        "**@AUTOR: [GABRIEL MACHADO](https://github.com/Gabriel-Machado-GM)** \\\n",
        "**@REPO: [ONLINE JUDGE SOLUTIONS PYTHON](https://github.com/Gabriel-Machado-GM/Online-Judge-Solutions-Python)**\n",
        "\n",
        "![image.png](data:image/png;base64,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)\n",
        "\n",
        "## Problem Description\n",
        "\n",
        "Every corner of the N-dimensional ($1 < N < 15$) unit cube has a weight (some positive integer less than 256). We will call two corners neighboring if they have a common edge. The potency of the corner is the sum of the weights of all neighboring corners. Weights of all the corners are given. You are to determine two neighboring corners that have the maximum sum of potencies and to output this sum.\n",
        "\n",
        "## Input\n",
        "\n",
        "The input will consist of several input blocks. Each input block begins with the integer N, the dimension of the cube. Then there are the weights of the corners, one per line in the natural order:\n",
        "\n",
        "* the first line contains the weight of the corner $(0, ..., 0, 0, 0)$,\n",
        "* the second one the weight of $(0, ..., 0, 0, 1)$\n",
        "* then there is the weight of $(0, ..., 0, 1, 0)$, then $(0, ..., 0, 1, 1)$, then $(0, ..., 1, 0, 0)$,\n",
        "* the penultimate line contains the weight of the corner $(1, ..., 1, 1, 0)$,\n",
        "* the last one $(1, ..., 1, 1, 1)$\n",
        "\n",
        "The input is terminated by <EOF>.\n",
        "\n",
        "## Output\n",
        "\n",
        "For each input block, the output line should contain one number, the maximum potencies sum.\n",
        "\n",
        "## Sample Input\n",
        "\n",
        "3\\\n",
        "82\\\n",
        "73\\\n",
        "8\\\n",
        "49\\\n",
        "120\\\n",
        "44\\\n",
        "242\\\n",
        "58\\\n",
        "2\\\n",
        "1\\\n",
        "1\\\n",
        "1\\\n",
        "1\n",
        "\n",
        "\n",
        "## Sample Output\n",
        "\n",
        "619\\\n",
        "4\n"
      ],
      "metadata": {
        "id": "cCk2L6wJtKim"
      }
    },
    {
      "cell_type": "markdown",
      "source": [
        "# My Solution"
      ],
      "metadata": {
        "id": "PlrcV5Adtkkw"
      }
    },
    {
      "cell_type": "code",
      "source": [
        "# Explanation:\n",
        "# This code calculates the maximum sum of potencies of two neighboring corners in an N-dimensional unit cube.\n",
        "# It utilizes bit manipulation to efficiently represent and iterate through the corners of the cube.\n",
        "\n",
        "# Data Structures:\n",
        "# - w: A list to store the weights of each corner of the cube.  The index of the list corresponds to the binary representation of the corner coordinates.  For example, in a 3-dimensional cube, corner (0,1,0) would be represented by the integer 2 (010 in binary) and its weight stored at index 2 in the 'w' list. This allows direct access to the weights using bitwise operations.\n",
        "\n",
        "# - total_w: A list to store the potency of each corner. The potency of a corner is the sum of weights of its neighboring corners.  Neighbors are found efficiently by XORing with numbers 2^i, where i represents a dimension. For the same 3-dimensional example, corners neighboring to (0,1,0) would be found by XORing 2 with powers of 2 less than or equal to 2^2 (the number of dimensions), i.e., 1, 2, and 4.\n",
        "\n",
        "# - max_w:  A list to store the maximum potency sum for each corner, by considering all neighboring corners.\n",
        "\n",
        "# - N: A list to store powers of 2 for easier calculation of neighbors, corresponding to each dimension.\n",
        "\n",
        "# Algorithm:\n",
        "# 1. Input: Read the dimension N and the weights of all corners.\n",
        "# 2. Calculate Potencies: For each corner, calculate its potency (total_w) by summing the weights of all its neighbors. The neighbors are found by XORing the corner index with 2^i, effectively flipping one bit at a time in the binary representation.\n",
        "# 3. Find Maximum Potency Sum: For each corner, find the maximum sum of its potency and the potency of each of its neighbors (max_w).\n",
        "# 4. Output: Print the maximum value in max_w which represents the maximum sum of potencies of two neighboring corners.\n",
        "\n",
        "while True:\n",
        "  try:\n",
        "    num_sides = int(input())\n",
        "    num_inputs = 1 << num_sides\n",
        "    w = []\n",
        "    total_w = []\n",
        "    max_w = []\n",
        "    N = [1 << i for i in range(num_sides)]\n",
        "    for i in range(num_inputs):\n",
        "      w.append(int(input()))\n",
        "    for i in range(num_inputs):\n",
        "      total = 0\n",
        "      for n in N:\n",
        "        total += w[i ^ n]\n",
        "      total_w.append(total)\n",
        "    for i in range(num_inputs):\n",
        "      max_ = 0\n",
        "      for n in N:\n",
        "        if total_w[i] + total_w[i ^ n] > max_:\n",
        "          max_ = total_w[i] + total_w[i ^ n]\n",
        "      max_w.append(max_)\n",
        "    print(max(max_w))\n",
        "  except(EOFError):\n",
        "    break"
      ],
      "metadata": {
        "colab": {
          "base_uri": "https://localhost:8080/",
          "height": 506
        },
        "id": "_PezzK14uH-A",
        "outputId": "e583e5b3-c781-4ef6-f682-840854656f75"
      },
      "execution_count": null,
      "outputs": [
        {
          "name": "stdout",
          "output_type": "stream",
          "text": [
            "3\n",
            "82\n",
            "73\n",
            "8\n",
            "49\n",
            "120\n",
            "44\n",
            "242\n",
            "58\n",
            "619\n",
            "2\n",
            "1\n",
            "1\n",
            "1\n",
            "1\n",
            "4\n",
            "\n"
          ]
        },
        {
          "output_type": "error",
          "ename": "ValueError",
          "evalue": "invalid literal for int() with base 10: ''",
          "traceback": [
            "\u001b[0;31m---------------------------------------------------------------------------\u001b[0m",
            "\u001b[0;31mValueError\u001b[0m                                Traceback (most recent call last)",
            "\u001b[0;32m<ipython-input-1-97988d30153b>\u001b[0m in \u001b[0;36m<cell line: 0>\u001b[0;34m()\u001b[0m\n\u001b[1;32m     20\u001b[0m \u001b[0;32mwhile\u001b[0m \u001b[0;32mTrue\u001b[0m\u001b[0;34m:\u001b[0m\u001b[0;34m\u001b[0m\u001b[0;34m\u001b[0m\u001b[0m\n\u001b[1;32m     21\u001b[0m   \u001b[0;32mtry\u001b[0m\u001b[0;34m:\u001b[0m\u001b[0;34m\u001b[0m\u001b[0;34m\u001b[0m\u001b[0m\n\u001b[0;32m---> 22\u001b[0;31m     \u001b[0mnum_sides\u001b[0m \u001b[0;34m=\u001b[0m \u001b[0mint\u001b[0m\u001b[0;34m(\u001b[0m\u001b[0minput\u001b[0m\u001b[0;34m(\u001b[0m\u001b[0;34m)\u001b[0m\u001b[0;34m)\u001b[0m\u001b[0;34m\u001b[0m\u001b[0;34m\u001b[0m\u001b[0m\n\u001b[0m\u001b[1;32m     23\u001b[0m     \u001b[0mnum_inputs\u001b[0m \u001b[0;34m=\u001b[0m \u001b[0;36m1\u001b[0m \u001b[0;34m<<\u001b[0m \u001b[0mnum_sides\u001b[0m\u001b[0;34m\u001b[0m\u001b[0;34m\u001b[0m\u001b[0m\n\u001b[1;32m     24\u001b[0m     \u001b[0mw\u001b[0m \u001b[0;34m=\u001b[0m \u001b[0;34m[\u001b[0m\u001b[0;34m]\u001b[0m\u001b[0;34m\u001b[0m\u001b[0;34m\u001b[0m\u001b[0m\n",
            "\u001b[0;31mValueError\u001b[0m: invalid literal for int() with base 10: ''"
          ]
        }
      ]
    }
  ]
}