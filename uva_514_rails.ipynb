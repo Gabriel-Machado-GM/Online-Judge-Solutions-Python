{
  "nbformat": 4,
  "nbformat_minor": 0,
  "metadata": {
    "colab": {
      "provenance": [],
      "authorship_tag": "ABX9TyMVttfXCmOxCV4CsKGJvdFg",
      "include_colab_link": true
    },
    "kernelspec": {
      "name": "python3",
      "display_name": "Python 3"
    },
    "language_info": {
      "name": "python"
    }
  },
  "cells": [
    {
      "cell_type": "markdown",
      "metadata": {
        "id": "view-in-github",
        "colab_type": "text"
      },
      "source": [
        "<a href=\"https://colab.research.google.com/github/Gabriel-Machado-GM/Online-Judge-Solutions-Python/blob/main/uva_514_rails.ipynb\" target=\"_parent\"><img src=\"https://colab.research.google.com/assets/colab-badge.svg\" alt=\"Open In Colab\"/></a>"
      ]
    },
    {
      "cell_type": "markdown",
      "source": [
        "![image.png](data:image/png;base64,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)\n",
        "\n",
        "**@PDF: [UVA 514 - Rails](https://onlinejudge.org/external/5/514.pdf)** \\\n",
        "**@AUTOR: [GABRIEL MACHADO](https://github.com/Gabriel-Machado-GM)** \\\n",
        "**@REPO: [ONLINE JUDGE SOLUTIONS PYTHON](https://github.com/Gabriel-Machado-GM/Online-Judge-Solutions-Python)**\n",
        "\n",
        "# UVA 514 Rails\n",
        "\n",
        "There is a famous railway station in PopPush City. Country there is incredibly hilly. The station was built in last century. Unfortunately, funds were extremely limited that time. It was possible to establish only a surface track. Moreover, it turned out that the station could be only a dead-end one (see picture) and due to lack of available space it could have only one track.\n",
        "```\n",
        "5, 4, 3, 2, 1 -> B\n",
        "Station\n",
        "A <- 1, 2, 3, 4, 5\n",
        "```\n",
        "\n",
        "The local tradition is that every train arriving from the direction A continues in the direction B with coaches reorganized in some way. Assume that the train arriving from the direction A has $N \\le 1000$ coaches numbered in increasing order 1, 2,..., N. The chief for train reorganizations must know whether it is possible to marshal coaches continuing in the direction B so that their order will be $a_{1}, a_{2}, ..., a_{N}$. Help him and write a program that decides whether it is possible to get the required order of coaches. You can assume that single coaches can be disconnected from the train before they enter the station and that they can move themselves until they are on the track in the direction B. You can also suppose that at any time there can be located as many coaches as necessary in the station. But once a coach has entered the station it cannot return to the track in the direction A and also once it has left the station in the direction B it cannot return back to the station.\n",
        "\n",
        "## Input\n",
        "\n",
        "The input file consists of blocks of lines. Each block except the last describes one train and possibly more requirements for its reorganization. In the first line of the block there is the integer N described above. In each of the next lines of the block there is a permutation of $1, 2, ..., N$. The last line of the block contains just '0'.\n",
        "\n",
        "The last block consists of just one line containing '0'.\n",
        "\n",
        "## Output\n",
        "\n",
        "The output file contains the lines corresponding to the lines with permutations in the input file. A line of the output file contains 'Yes' if it is possible to marshal the coaches in the order required on the corresponding line of the input file. Otherwise it contains 'No'. In addition, there is one empty line after the lines corresponding to one block of the input file. There is no line in the output file corresponding to the last \"null\" block of the input file.\n",
        "\n",
        "## Sample Input\n",
        "\n",
        "5\\\n",
        "1 2 3 4 5\\\n",
        "5 4 1 2 3\\\n",
        "0\\\n",
        "6\\\n",
        "6 5 4 3 2 1\\\n",
        "0\\\n",
        "0\n",
        "\n",
        "\n",
        "## Sample Output\n",
        "\n",
        "Yes\\\n",
        "No\\\n",
        "\\\n",
        "Yes"
      ],
      "metadata": {
        "id": "DzL0v55vpl-4"
      }
    },
    {
      "cell_type": "code",
      "execution_count": null,
      "metadata": {
        "id": "68J1LNrUsfTZ"
      },
      "outputs": [],
      "source": [
        "from sys import stdin, stdout\n",
        "\n",
        "while True:  # Outer loop: Processes multiple test cases. The program continues to run until it receives a specific input (\"0\") that signals the end of input. This is a common pattern in competitive programming.\n",
        "    l = stdin.readline().strip()  # Reads a line from standard input, removes leading/trailing whitespace, and assigns it to the variable 'l'. This line is expected to contain the number of elements in the input sequence.\n",
        "    if l == \"0\":  # Checks if the input line is \"0\".\n",
        "        break  # If it is, the loop breaks, indicating the end of the input.\n",
        "\n",
        "    n = int(l)  # Converts the input line (which represents the number of elements) to an integer and stores it in the variable 'n'.\n",
        "    in_order = [i + 1 for i in range(n)]  # Creates a list named 'in_order' containing integers from 1 to 'n' in ascending order. This represents the original, sorted sequence of elements.\n",
        "\n",
        "    l = stdin.readline().strip()  # Reads another line from standard input, which represents the desired output order.\n",
        "    while l != \"0\":  # Inner loop: Processes individual output order sequences until \"0\" is encountered.\n",
        "        out_order = list(map(int, l.split()))  # Converts the space-separated integers in the input line into a list of integers called 'out_order'.\n",
        "        can_do = True  # Initializes a boolean variable 'can_do' to True. This variable will track whether the desired output order is achievable.\n",
        "\n",
        "        stack = []  # Initializes an empty list named 'stack'. This list will be used as a stack data structure to simulate the shunting process.\n",
        "        in_i = 0  # Initializes an index 'in_i' to 0, representing the current position in the 'in_order' list.\n",
        "        out_i = 0  # Initializes an index 'out_i' to 0, representing the current position in the 'out_order' list.\n",
        "\n",
        "        while out_i < n:  # This loop simulates the shunting process, attempting to produce the 'out_order' from the 'in_order'.\n",
        "            # Bypass the stack (push followed by pop)\n",
        "            if in_i < n and in_order[in_i] == out_order[out_i]:  # Checks if the next element in 'in_order' is the element we want next in 'out_order'.\n",
        "                in_i += 1  # If it is, increment 'in_i' (move to the next element in 'in_order').\n",
        "                out_i += 1  # Also, increment 'out_i' (we've successfully processed the next element in 'out_order').\n",
        "            # Search the stack (pop)\n",
        "            elif len(stack) > 0 and stack[-1] == out_order[out_i]:  # Checks if the top element of the stack is the element we want next in 'out_order'.\n",
        "                stack.pop()  # If it is, pop the element from the stack (simulating taking it out).\n",
        "                out_i += 1  # Increment 'out_i' (we've processed the next element).\n",
        "            # Push into stack\n",
        "            else:  # If neither of the above conditions is met, we need to push an element onto the stack.\n",
        "                if in_i < n:  # Checks if there are more elements to push from 'in_order'.\n",
        "                    stack.append(in_order[in_i])  # Push the next element from 'in_order' onto the stack.\n",
        "                    in_i += 1  # Increment 'in_i'.\n",
        "                else:  # If there are no more elements to push and we still haven't produced 'out_order'...\n",
        "                    can_do = False  # The desired output order is not achievable.\n",
        "                    break  # Exit the inner loop.\n",
        "\n",
        "        stdout.write(\"Yes\\n\" if can_do else \"No\\n\")  # Prints \"Yes\" if the desired output order is achievable, \"No\" otherwise.\n",
        "        l = input().strip()  # Reads the next output order sequence.\n",
        "\n",
        "    print()  # Prints a blank line between test cases."
      ]
    }
  ]
}