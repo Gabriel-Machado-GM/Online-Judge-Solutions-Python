{
  "nbformat": 4,
  "nbformat_minor": 0,
  "metadata": {
    "colab": {
      "provenance": [],
      "authorship_tag": "ABX9TyMLjZkWpKRZ468gdZgEbKGP",
      "include_colab_link": true
    },
    "kernelspec": {
      "name": "python3",
      "display_name": "Python 3"
    },
    "language_info": {
      "name": "python"
    }
  },
  "cells": [
    {
      "cell_type": "markdown",
      "metadata": {
        "id": "view-in-github",
        "colab_type": "text"
      },
      "source": [
        "<a href=\"https://colab.research.google.com/github/Gabriel-Machado-GM/Online-Judge-Solutions-Python/blob/main/uva_11192_group_reverse.ipynb\" target=\"_parent\"><img src=\"https://colab.research.google.com/assets/colab-badge.svg\" alt=\"Open In Colab\"/></a>"
      ]
    },
    {
      "cell_type": "markdown",
      "source": [
        "![image.png](data:image/png;base64,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)\n",
        "\n",
        "**@PDF: [UVA 11192 - Group Reverse](https://onlinejudge.org/external/111/11192.pdf)** \\\n",
        "**@AUTOR: [GABRIEL MACHADO](https://github.com/Gabriel-Machado-GM)** \\\n",
        "**@REPO: [ONLINE JUDGE SOLUTIONS PYTHON](https://github.com/Gabriel-Machado-GM/Online-Judge-Solutions-Python)**\n",
        "\n",
        "# UVA 11192 Group Reverse\n",
        "\n",
        "Group reversing a string means reversing a string by groups. For example consider a string:\n",
        "\n",
        "`\"TOBENUMBERONEWEMEETAGAINANDAGAINUNDERBLUEICPCSKY\"`\n",
        "\n",
        "This string has length 48. We have divided into 8 groups of equal length and so the length of each group is 6. Now we can reverse each of these eight groups to get a new string:\n",
        "\n",
        "`\"UNEBOTNOREBMEEMEWENIAGATAGADNAEDNUNIIEULBRYKSCPC\"`\n",
        "\n",
        "Given the string and number of groups in it, your program will have to group reverse it.\n",
        "\n",
        "## Input\n",
        "\n",
        "The input file contains at most 101 lines of inputs. Each line contains at integer $G(G<10)$ which denotes the number of groups followed by a string whose length is a multiple of G. The length of the string is not greater than 100. The string contains only alpha numerals. Input is terminated by a line containing a single zero.\n",
        "\n",
        "## Output\n",
        "\n",
        "For each line of input produce one line of output which contains the group reversed string.\n",
        "\n",
        "## Sample Input\n",
        "3 ABCEHSHSH\\\n",
        "5 FAOETASINAHGRIONATWONOQAONARIO\\\n",
        "0\n",
        "\n",
        "\n",
        "## Sample Output\n",
        "\n",
        "CBASHEHSH\\\n",
        "ATEOAFGHANISTANOIRAQONOWOIRANO"
      ],
      "metadata": {
        "id": "MNBqvxp4OVW4"
      }
    },
    {
      "cell_type": "code",
      "execution_count": null,
      "metadata": {
        "id": "quNXmxhlNji8"
      },
      "outputs": [],
      "source": [
        "# Start an infinite loop to process multiple lines of input.\n",
        "# The loop will break specifically when the input line is \"0\".\n",
        "while True:\n",
        "  # Read a line of text from the standard input.\n",
        "  line = input()\n",
        "\n",
        "  # Check the termination condition: if the input line is exactly \"0\".\n",
        "  # Using str() ensures we compare strings, though input() returns a string anyway.\n",
        "  if str(line) == \"0\":\n",
        "    break # Exit the loop\n",
        "\n",
        "  # Split the input line into parts based on whitespace.\n",
        "  # Expecting format like: \"number_of_chunks word\" (e.g., \"3 ABCDEFGHI\")\n",
        "  line_parts = line.split()\n",
        "\n",
        "  # Extract the first part as the number of chunks (initially). Convert to integer.\n",
        "  num_chunks = int(line_parts[0])\n",
        "  # Extract the second part as the word/string itself. Convert to string (already is).\n",
        "  word = str(line_parts[1])\n",
        "\n",
        "  # Calculate the size (length) of each chunk/segment.\n",
        "  # This is done by dividing the total length of the word by the desired number of chunks.\n",
        "  # Uses integer division // which discards any remainder.\n",
        "  # Example: word=\"ABCDEFGHI\" (len 9), num_chunks=3 -> chunk_size = 9 // 3 = 3\n",
        "  # Example: word=\"AATTCCGG\" (len 8), num_chunks=4 -> chunk_size = 8 // 4 = 2\n",
        "  # We reuse the variable 'n' here to store the chunk size.\n",
        "  n = len(word) // num_chunks\n",
        "\n",
        "  # Perform the core logic: reversing segments and joining them.\n",
        "  # This uses a list comprehension and string joining.\n",
        "  # Let's break down the list comprehension: [word[i:i+n][::-1] for i in range(0, len(word), n)]\n",
        "  # 1. range(0, len(word), n): Generates the starting index 'i' for each chunk.\n",
        "  #    It starts at 0, goes up to (but not including) len(word), incrementing by 'n' (chunk_size) each time.\n",
        "  #    Example: len=9, n=3 -> range generates 0, 3, 6\n",
        "  #    Example: len=8, n=2 -> range generates 0, 2, 4, 6\n",
        "  # 2. word[i:i+n]: For each starting index 'i', this slices the 'word' to get the chunk.\n",
        "  #    Example (i=0, n=3): word[0:3] -> \"ABC\"\n",
        "  #    Example (i=3, n=3): word[3:6] -> \"DEF\"\n",
        "  #    Example (i=6, n=3): word[6:9] -> \"GHI\"\n",
        "  # 3. [::-1]: This is Python's slicing syntax to reverse a sequence (string, list, etc.).\n",
        "  #    Applied to the chunk: \"ABC\"[::-1] -> \"CBA\"\n",
        "  #                         \"DEF\"[::-1] -> \"FED\"\n",
        "  #                         \"GHI\"[::-1] -> \"IHG\"\n",
        "  # 4. [...]: The list comprehension collects all these reversed chunks into a list.\n",
        "  #    Example: [\"CBA\", \"FED\", \"IHG\"]\n",
        "  # 5. \"\".join(...): This joins the elements of the list (the reversed chunks)\n",
        "  #    into a single string, with an empty string \"\" as the separator.\n",
        "  #    Example: \"\".join([\"CBA\", \"FED\", \"IHG\"]) -> \"CBAFEDIHG\"\n",
        "  out = \"\".join([word[i:i+n][::-1] for i in range(0, len(word), n)])\n",
        "\n",
        "  # Print the resulting string, which consists of the original word's segments reversed.\n",
        "  print(out)\n",
        "\n",
        "# The loop continues until the input \"0\" is encountered."
      ]
    }
  ]
}