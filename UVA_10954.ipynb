{
  "nbformat": 4,
  "nbformat_minor": 0,
  "metadata": {
    "colab": {
      "provenance": [],
      "authorship_tag": "ABX9TyOw6iPUAbaoEGNHydEyAPdQ",
      "include_colab_link": true
    },
    "kernelspec": {
      "name": "python3",
      "display_name": "Python 3"
    },
    "language_info": {
      "name": "python"
    }
  },
  "cells": [
    {
      "cell_type": "markdown",
      "metadata": {
        "id": "view-in-github",
        "colab_type": "text"
      },
      "source": [
        "<a href=\"https://colab.research.google.com/github/Gabriel-Machado-GM/Online-Judge-Solutions-Python/blob/main/UVA_10954.ipynb\" target=\"_parent\"><img src=\"https://colab.research.google.com/assets/colab-badge.svg\" alt=\"Open In Colab\"/></a>"
      ]
    },
    {
      "cell_type": "markdown",
      "source": [
        "# UVA 10954 - Add All\n",
        "\n",
        "https://onlinejudge.org/index.php?option=onlinejudge&page=show_problem&problem=1895#google_vignette\n",
        "\n",
        "https://onlinejudge.org/external/109/p10954.pdf"
      ],
      "metadata": {
        "id": "gAiZIsbc6Zcb"
      }
    },
    {
      "cell_type": "markdown",
      "source": [
        "Yup!! The problem name reflects your task; just add a set of numbers.\n",
        "\n",
        "But you may feel yourselves condescended, to write a C/C++ program just to add a set of numbers. Such a problem will simply question your erudition.\n",
        "\n",
        "So, lets add some flavor of ingenuity to it.\n",
        "\n",
        "Addition operation requires cost now, and the cost is the summation of those two to be added.\n",
        "\n",
        "So, to add 1 and 10, you need a cost of 11. If you want to add 1, 2 and 3. There are several ways"
      ],
      "metadata": {
        "id": "REe12j4wPR_E"
      }
    },
    {
      "cell_type": "markdown",
      "source": [
        "Sim!! O nome do problema reflete sua tarefa; basta adicionar um conjunto de números.\n",
        "\n",
        "Mas vocês podem se sentir condescendentes, por escrever um programa C/C++ apenas para adicionar um conjunto de números. Tal problema simplesmente questionará sua erudição.\n",
        "\n",
        "Então, vamos adicionar um pouco de engenhosidade a ele.\n",
        "\n",
        "A operação de adição requer custo agora, e o custo é a soma desses dois a serem adicionados.\n",
        "\n",
        "Então, para adicionar 1 e 10, você precisa de um custo de 11. Se você quiser adicionar 1, 2 e 3. Existem várias maneiras"
      ],
      "metadata": {
        "id": "AOIOrhUjP65E"
      }
    },
    {
      "cell_type": "markdown",
      "source": [
        "![image.png](data:image/png;base64,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)"
      ],
      "metadata": {
        "id": "pGQLs2B9PP20"
      }
    },
    {
      "cell_type": "markdown",
      "source": [
        "I hope you have understood already your mission, to add a set of integers so that the cost is minimal"
      ],
      "metadata": {
        "id": "Ah_4sg49Pv-c"
      }
    },
    {
      "cell_type": "markdown",
      "source": [
        "Input\n",
        "\n",
        "Each test case will start with a positive number, N (2 ≤ N ≤ 5000) followed by N positive integers\n",
        "(all are less than 100000). Input is terminated by a case where the value of N is zero. This case should\n",
        "not be processed.\n"
      ],
      "metadata": {
        "id": "BUTpkLFuPxWM"
      }
    },
    {
      "cell_type": "markdown",
      "source": [
        "Espero que você já tenha entendido sua missão, adicionar um conjunto de inteiros para que o custo seja mínimo\n",
        "\n",
        "Entrada\n",
        "\n",
        "Cada caso de teste começará com um número positivo, N (2 ≤ N ≤ 5000) seguido por N inteiros positivos (todos menores que 100000). A entrada é encerrada por um caso em que o valor de N é zero. Este caso não deve ser processado."
      ],
      "metadata": {
        "id": "dkPlbQaoQI3k"
      }
    },
    {
      "cell_type": "code",
      "source": [
        "n  = int(input())\n",
        "listas=[]\n",
        "for i in range(n):\n",
        "    listas.append(int(input()))\n",
        "print(listas)\n",
        "\n",
        "for i in range n:\n",
        "  m = int(input())"
      ],
      "metadata": {
        "id": "fXwgvAzmPwrs"
      },
      "execution_count": null,
      "outputs": []
    },
    {
      "cell_type": "code",
      "source": [],
      "metadata": {
        "id": "81yQ8DEZPgF8"
      },
      "execution_count": null,
      "outputs": []
    }
  ]
}