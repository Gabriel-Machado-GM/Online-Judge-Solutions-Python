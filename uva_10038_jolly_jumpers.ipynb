{
  "nbformat": 4,
  "nbformat_minor": 0,
  "metadata": {
    "colab": {
      "provenance": [],
      "authorship_tag": "ABX9TyPnRQeExSFJqjQYATiowzBU",
      "include_colab_link": true
    },
    "kernelspec": {
      "name": "python3",
      "display_name": "Python 3"
    },
    "language_info": {
      "name": "python"
    }
  },
  "cells": [
    {
      "cell_type": "markdown",
      "metadata": {
        "id": "view-in-github",
        "colab_type": "text"
      },
      "source": [
        "<a href=\"https://colab.research.google.com/github/Gabriel-Machado-GM/Online-Judge-Solutions-Python/blob/main/uva_10038_jolly_jumpers.ipynb\" target=\"_parent\"><img src=\"https://colab.research.google.com/assets/colab-badge.svg\" alt=\"Open In Colab\"/></a>"
      ]
    },
    {
      "cell_type": "markdown",
      "source": [
        "# UVA 10038 - Jolly Jumpers\n",
        "![image.png](data:image/png;base64,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)\n",
        "## Problem Description\n",
        "\n",
        "A sequence of $n > 0$ integers is called a jolly jumper if the absolute values of the difference between successive elements take on all the values 1 through $n-1$. [cite: 1]\n",
        "\n",
        "For example, the sequence:\n",
        "\n",
        "```\n",
        "1 4 2 3\n",
        "```\n",
        "\n",
        "is a jolly jumper because the absolute differences are 3, 2, and 1, respectively. [cite: 1]\n",
        "\n",
        "It's also important to note that any sequence of a single integer is considered a jolly jumper. [cite: 2]\n",
        "\n",
        "Your task is to write a program that determines whether a given number of sequences are jolly jumpers or not. [cite: 3]\n",
        "\n",
        "## Input\n",
        "\n",
        "Each line of input contains an integer $n \\le 3000$, followed by $n$ integers representing the sequence.\n",
        "\n",
        "[cite: 4]\n",
        "\n",
        "## Output\n",
        "\n",
        "For each line of input, generate a line of output saying 'Jolly' or 'Not jolly'.\n",
        "\n",
        "[cite: 5]\n",
        "\n",
        "## Sample Input\n",
        "\n",
        "```\n",
        "4 1 4 2 3\n",
        "5 1 4 2 -1 6\n",
        "```\n",
        "\n",
        "## Sample Output\n",
        "\n",
        "```\n",
        "Jolly\n",
        "Not jolly\n",
        "```"
      ],
      "metadata": {
        "id": "dKATb7_lznG9"
      }
    },
    {
      "cell_type": "code",
      "execution_count": null,
      "metadata": {
        "id": "o9GB5g5cvsaN"
      },
      "outputs": [],
      "source": [
        "while True:\n",
        "  try:\n",
        "    line = input()\n",
        "    inps = list(map(int, line.split()))\n",
        "    n = inps[0]\n",
        "    covered = [False] * (n)\n",
        "\n",
        "    if n < 2:\n",
        "      print(\"Jolly\")\n",
        "      continue\n",
        "\n",
        "    is_jolly = True\n",
        "    for i in range(1, n):\n",
        "      distance = abs(inps[i] - inps[i+1])\n",
        "\n",
        "      if distance >= n:\n",
        "        is_jolly = False\n",
        "        break\n",
        "\n",
        "      if covered[distance]:\n",
        "        is_jolly = False\n",
        "        break\n",
        "\n",
        "      covered[distance] = True\n",
        "    print(\"Jolly\" if is_jolly else \"Not jolly\")\n",
        "  except EOFError:\n",
        "    break"
      ]
    },
    {
      "cell_type": "markdown",
      "source": [
        "# cODE eXPLANATION :)\n",
        "\n",
        "1.   while True:: This loop runs indefinitely, processing input until it encounters an \"End of File\" (EOF) signal.\n",
        "\n",
        "2.   try:: This block is used for error handling. If an EOFError occurs (which happens when there's no more input), the loop breaks.\n",
        "\n",
        "2.   line = input(): This line reads a line of input from the user or a data source.\n",
        "\n",
        "2.   inps = list(map(int, line.split())):\n",
        "\n",
        "  >  line.split(): This splits the input line into a list of strings, using spaces as delimiters.\n",
        "\n",
        "  >  map(int, ...): This applies the int function to each element of the split list, converting them into integers.\n",
        "    \n",
        "  > list(...): This converts the result into a list, storing it in the inps variable.\n",
        "\n",
        "2.   n = inps[0]: This line assigns the first element of the inps list (which represents the length of the sequence) to the variable n.\n",
        "\n",
        "2.   covered = [False] * (n): This creates a list named covered with n elements, all initialized to False. This list will be used to keep track of the differences encountered in the sequence.\n",
        "\n",
        "2.   if n < 2:: This condition checks if the sequence has less than 2 elements. If true, it's considered a \"Jolly Jumper\" by default, and it prints \"Jolly\" and then continues to the next iteration of the while loop.\n",
        "\n",
        "2.   is_jolly = True: This line initializes a boolean variable is_jolly to True, assuming the sequence is a Jolly Jumper until proven otherwise.\n",
        "\n",
        "2.   for i in range(1, n):: This loop iterates through the sequence, calculating differences between consecutive elements.\n",
        "\n",
        "2.   distance = abs(inps[i] - inps[i+1]): This line calculates the absolute difference between two consecutive elements in the sequence and stores it in the distance variable.\n",
        "\n",
        "2.   if distance >= n:: This condition checks if the distance is greater than or equal to n. If true, it means the sequence is not a Jolly Jumper, so is_jolly is set to False, and the loop breaks using break.\n",
        "\n",
        "2.   if covered[distance]:: This condition checks if the distance value has already been encountered in the sequence (by checking the covered list). If it has, it means the sequence is not a Jolly Jumper (as it doesn't contain all unique differences), so is_jolly is set to False, and the loop breaks.\n",
        "\n",
        "2.   covered[distance] = True: If the distance is a new, unique value, this line marks it as encountered in the covered list by setting the corresponding element to True.\n",
        "\n",
        "2.   print(\"Jolly\" if is_jolly else \"Not jolly\"): This line prints the result. If is_jolly is True, it prints \"Jolly\"; otherwise, it prints \"Not jolly\".\n",
        "\n",
        "2.   except EOFError:: This is the error handling block. If an EOFError is encountered (indicating the end of input), the break statement exits the while loop, ending the program.\n",
        "\n"
      ],
      "metadata": {
        "id": "iOVwih8e0pIr"
      }
    }
  ]
}