{
  "nbformat": 4,
  "nbformat_minor": 0,
  "metadata": {
    "colab": {
      "provenance": [],
      "authorship_tag": "ABX9TyMisDmv5b/LxKwaHPACrTqU",
      "include_colab_link": true
    },
    "kernelspec": {
      "name": "python3",
      "display_name": "Python 3"
    },
    "language_info": {
      "name": "python"
    }
  },
  "cells": [
    {
      "cell_type": "markdown",
      "metadata": {
        "id": "view-in-github",
        "colab_type": "text"
      },
      "source": [
        "<a href=\"https://colab.research.google.com/github/Gabriel-Machado-GM/Online-Judge-Solutions-Python/blob/main/UVA11995.ipynb\" target=\"_parent\"><img src=\"https://colab.research.google.com/assets/colab-badge.svg\" alt=\"Open In Colab\"/></a>"
      ]
    },
    {
      "cell_type": "markdown",
      "source": [
        "# UVA 11995\n",
        "\n",
        "stack - (Last-In, First-Out)\n",
        "\n",
        "queue - (First-In, First-Out)\n",
        "\n",
        "priority-queue - (Always take out larger\n",
        "elements first)\n",
        "\n",
        "##**Input - begins with a line containing a single integer n (1 ≤ n ≤ 1000)**\n",
        "\n",
        "the next n lines is either a type-1 command, or an integer 2 followed by an integer x\n",
        "\n",
        "after executing a type-2 command, x without error\n",
        "\n",
        "0 < x < 100\n",
        "\n",
        "terminated by end-of-file\n",
        "\n",
        "##**Output**\n",
        "\n",
        "1 - stack - (It’s definitely a stack.) - FIFO\n",
        "\n",
        "2 - queue - (It’s definitely a queue.)\n",
        "\n",
        "3 - priority queue - (It’s definitely a priority queue.)\n",
        "\n",
        "4 - impossible - (It can’t be a stack, a queue or a priority queue.)\n",
        "\n",
        "5 - not sure - (It can be more than one of the three data structures mentioned above.)"
      ],
      "metadata": {
        "id": "MBV7xrFfHNUk"
      }
    },
    {
      "cell_type": "code",
      "execution_count": null,
      "metadata": {
        "colab": {
          "base_uri": "https://localhost:8080/"
        },
        "id": "XCvqMh8dDVEN",
        "outputId": "22403eb6-160d-414a-e34b-e1c92d391b26"
      },
      "outputs": [
        {
          "output_type": "stream",
          "name": "stdout",
          "text": [
            "6\n",
            "1 1\n",
            "1 2\n",
            "1 3\n",
            "2 1\n",
            "2 2\n",
            "2 3\n",
            "['1 1', '1 2', '1 3', '2 1', '2 2', '2 3']\n",
            "1 - stack - (It’s definitely a stack.) - FIFO\n"
          ]
        }
      ],
      "source": [
        "# Tentativa 1 com lógica de exclusão no fim com if's\n",
        "#Last-In, First-Out\n",
        "\n",
        "\n",
        "primeiro_comando=int(input())\n",
        "comando = []\n",
        "bag = []\n",
        "retorno_advinho = []\n",
        "\n",
        "for i in range(primeiro_comando):\n",
        "    comando.append(input())\n",
        "print(comando)\n",
        "\n",
        "for i in comando:\n",
        "  k, v = i.split()\n",
        "  if k == '1':\n",
        "    bag.append(v)\n",
        "  elif k == '2':\n",
        "    retorno_advinho.append(v)\n",
        "  else:\n",
        "    print(v)\n",
        "  #except ValueError:\n",
        "    #print(\"Comando inválido, deve ser 1 ou 2\")\n",
        "\n",
        "if retorno_advinho == bag:\n",
        "  print(\"2 - queue - (It’s definitely a queue.)\")\n",
        "if retorno_advinho == bag[::-1]:\n",
        "  print(\"1 - stack - (It’s definitely a stack.) - FIFO\")\n",
        "if retorno_advinho == sorted(bag, reverse=True):\n",
        "  print(\"3 - priority queue - (It’s definitely a priority queue.)\")\n",
        "if retorno_advinho != bag and retorno_advinho != bag[::-1] and retorno_advinho != sorted(bag, reverse=True):\n",
        "  print(\"4 - impossible - (It can’t be a stack, a queue or a priority queue.)\")\n",
        "if retorno_advinho == bag and retorno_advinho == bag[::-1] and retorno_advinho == sorted(bag, reverse=True):\n",
        "  print(\"5 - not sure - (It can be more than one of the three data structures mentioned above.)\")\n",
        "\n",
        "\n"
      ]
    },
    {
      "cell_type": "markdown",
      "source": [
        "**A próxima tentativa utiliza a lógica da dica dada pelo Andershow de colocar Flags True para determinar o tipo da estrutura de uma forma excludente e progressiva**"
      ],
      "metadata": {
        "id": "FhKkgHe4MzTF"
      }
    },
    {
      "cell_type": "code",
      "source": [
        "def guess_data_structure(n):\n",
        "    comando = []\n",
        "    bag = []\n",
        "    retorno_advinho = []\n",
        "\n",
        "    # Flags para determinar a estrutura\n",
        "    is_queue = True\n",
        "    is_stack = True\n",
        "    is_priority_queue = True\n",
        "\n",
        "    for i in range(n):\n",
        "        comando.append(input())\n",
        "\n",
        "    for i in comando:\n",
        "        k, v = i.split()\n",
        "        v = int(v)  # Convertemos v para inteiro\n",
        "        if k == '1':\n",
        "            # Inserção nas três estruturas\n",
        "            bag.append(v)\n",
        "        elif k == '2':\n",
        "            # Comparando com o que deve ser removido\n",
        "            retorno_advinho.append(v)\n",
        "            if len(bag) == 0:\n",
        "                # Se tentar remover de uma estrutura vazia\n",
        "                is_queue = is_stack = is_priority_queue = False\n",
        "            else:\n",
        "                # Para fila (queue), remove o primeiro elemento\n",
        "                if is_queue and bag[0] == v:\n",
        "                    bag.pop(0)\n",
        "                else:\n",
        "                    is_queue = False\n",
        "                if is_priority_queue and v == max(bag):\n",
        "                    bag.remove(v)\n",
        "                else:\n",
        "                    is_priority_queue = False\n",
        "\n",
        "                # Para pilha (stack), remove o último elemento\n",
        "                if is_stack and bag[-1] == v:\n",
        "                    bag.pop()\n",
        "                else:\n",
        "                    is_stack = False\n",
        "\n",
        "                # Para fila de prioridade (priority queue), remove o maior\n",
        "\n",
        "\n",
        "    # Verificar qual estrutura é possível\n",
        "    if is_queue and not is_stack and not is_priority_queue:\n",
        "        print(\"queue\")\n",
        "    elif not is_queue and is_stack and not is_priority_queue:\n",
        "        print(\"stack\")\n",
        "    elif not is_queue and not is_stack and is_priority_queue:\n",
        "        print(\"priority queue\")\n",
        "    elif not is_queue and not is_stack and not is_priority_queue:\n",
        "        print(\"impossible\")\n",
        "    else:\n",
        "        print(\"not sure\")\n",
        "    return results\n",
        "\n",
        "results2 = []\n",
        "while True:\n",
        "    try:\n",
        "        n = int(input())\n",
        "        results2.append(guess_data_structure(n))\n",
        "        print(results2)\n",
        "    except EOFError:\n",
        "        break\n",
        "\n",
        "for result in results2:\n",
        "    print(result[0])"
      ],
      "metadata": {
        "colab": {
          "base_uri": "https://localhost:8080/",
          "height": 471
        },
        "id": "yvfJaOKQnX8X",
        "outputId": "1a0b228a-5c24-4dd1-c846-f29cf1606a65"
      },
      "execution_count": null,
      "outputs": [
        {
          "output_type": "stream",
          "name": "stdout",
          "text": [
            "6\n",
            "1 1\n",
            "1 2\n",
            "1 3\n",
            "2 3\n",
            "2 2\n",
            "2 1\n",
            "priority queue\n"
          ]
        },
        {
          "output_type": "error",
          "ename": "NameError",
          "evalue": "name 'results' is not defined",
          "traceback": [
            "\u001b[0;31m---------------------------------------------------------------------------\u001b[0m",
            "\u001b[0;31mNameError\u001b[0m                                 Traceback (most recent call last)",
            "\u001b[0;32m<ipython-input-2-2bd8e7c68546>\u001b[0m in \u001b[0;36m<cell line: 60>\u001b[0;34m()\u001b[0m\n\u001b[1;32m     61\u001b[0m     \u001b[0;32mtry\u001b[0m\u001b[0;34m:\u001b[0m\u001b[0;34m\u001b[0m\u001b[0;34m\u001b[0m\u001b[0m\n\u001b[1;32m     62\u001b[0m         \u001b[0mn\u001b[0m \u001b[0;34m=\u001b[0m \u001b[0mint\u001b[0m\u001b[0;34m(\u001b[0m\u001b[0minput\u001b[0m\u001b[0;34m(\u001b[0m\u001b[0;34m)\u001b[0m\u001b[0;34m)\u001b[0m\u001b[0;34m\u001b[0m\u001b[0;34m\u001b[0m\u001b[0m\n\u001b[0;32m---> 63\u001b[0;31m         \u001b[0mresults2\u001b[0m\u001b[0;34m.\u001b[0m\u001b[0mappend\u001b[0m\u001b[0;34m(\u001b[0m\u001b[0mguess_data_structure\u001b[0m\u001b[0;34m(\u001b[0m\u001b[0mn\u001b[0m\u001b[0;34m)\u001b[0m\u001b[0;34m)\u001b[0m\u001b[0;34m\u001b[0m\u001b[0;34m\u001b[0m\u001b[0m\n\u001b[0m\u001b[1;32m     64\u001b[0m         \u001b[0mprint\u001b[0m\u001b[0;34m(\u001b[0m\u001b[0mresults2\u001b[0m\u001b[0;34m)\u001b[0m\u001b[0;34m\u001b[0m\u001b[0;34m\u001b[0m\u001b[0m\n\u001b[1;32m     65\u001b[0m     \u001b[0;32mexcept\u001b[0m \u001b[0mEOFError\u001b[0m\u001b[0;34m:\u001b[0m\u001b[0;34m\u001b[0m\u001b[0;34m\u001b[0m\u001b[0m\n",
            "\u001b[0;32m<ipython-input-2-2bd8e7c68546>\u001b[0m in \u001b[0;36mguess_data_structure\u001b[0;34m(n)\u001b[0m\n\u001b[1;32m     55\u001b[0m     \u001b[0;32melse\u001b[0m\u001b[0;34m:\u001b[0m\u001b[0;34m\u001b[0m\u001b[0;34m\u001b[0m\u001b[0m\n\u001b[1;32m     56\u001b[0m         \u001b[0mprint\u001b[0m\u001b[0;34m(\u001b[0m\u001b[0;34m\"not sure\"\u001b[0m\u001b[0;34m)\u001b[0m\u001b[0;34m\u001b[0m\u001b[0;34m\u001b[0m\u001b[0m\n\u001b[0;32m---> 57\u001b[0;31m     \u001b[0;32mreturn\u001b[0m \u001b[0mresults\u001b[0m\u001b[0;34m\u001b[0m\u001b[0;34m\u001b[0m\u001b[0m\n\u001b[0m\u001b[1;32m     58\u001b[0m \u001b[0;34m\u001b[0m\u001b[0m\n\u001b[1;32m     59\u001b[0m \u001b[0mresults2\u001b[0m \u001b[0;34m=\u001b[0m \u001b[0;34m[\u001b[0m\u001b[0;34m]\u001b[0m\u001b[0;34m\u001b[0m\u001b[0;34m\u001b[0m\u001b[0m\n",
            "\u001b[0;31mNameError\u001b[0m: name 'results' is not defined"
          ]
        }
      ]
    },
    {
      "cell_type": "code",
      "source": [
        "Sample Input\n",
        "6\n",
        "1 1\n",
        "1 2\n",
        "1 3\n",
        "2 1\n",
        "2 2\n",
        "2 3\n",
        "6\n",
        "1 1\n",
        "1 2\n",
        "1 3\n",
        "2 3\n",
        "2 2\n",
        "2 1\n",
        "2\n",
        "1 1\n",
        "2 2\n",
        "4\n",
        "1 2\n",
        "1 1\n",
        "2 1\n",
        "2 2\n",
        "7\n",
        "1 2\n",
        "1 5\n",
        "1 1\n",
        "1 3\n",
        "2 5\n",
        "1 4\n",
        "2 4\n",
        "Sample Output\n",
        "queue\n",
        "not sure\n",
        "impossible\n",
        "stack\n",
        "priority queue"
      ],
      "metadata": {
        "id": "-dcfsI9ipwwd"
      },
      "execution_count": null,
      "outputs": []
    },
    {
      "cell_type": "markdown",
      "source": [
        "**A próxima tentativa funciona e foi feita usando GPT o1-preview como auxiliar**"
      ],
      "metadata": {
        "id": "gvPkk0IcMaiu"
      }
    },
    {
      "cell_type": "code",
      "source": [
        "# Utiliza um método da biblioteca heapq\n",
        "import sys\n",
        "import heapq\n",
        "\n",
        "def guess_data_structure(n, commands):\n",
        "    # Estruturas\n",
        "    queue = []\n",
        "    stack = []\n",
        "    priority_queue = []\n",
        "\n",
        "    # Flags\n",
        "    is_queue = True\n",
        "    is_stack = True\n",
        "    is_priority_queue = True\n",
        "\n",
        "    for command in commands:\n",
        "        k, v = command\n",
        "\n",
        "        if k == 1:\n",
        "            # Inserir o valor nas três estruturas\n",
        "            if is_queue:\n",
        "                queue.append(v)\n",
        "            if is_stack:\n",
        "                stack.append(v)\n",
        "            if is_priority_queue:\n",
        "                heapq.heappush(priority_queue, -v)  # Usando heap como max-heap\n",
        "        elif k == 2:\n",
        "            # Remover e verificar\n",
        "            if is_queue:\n",
        "                if len(queue) == 0 or queue.pop(0) != v:\n",
        "                    is_queue = False\n",
        "            if is_stack:\n",
        "                if len(stack) == 0 or stack.pop() != v:\n",
        "                    is_stack = False\n",
        "            if is_priority_queue:\n",
        "                if len(priority_queue) == 0 or -heapq.heappop(priority_queue) != v:\n",
        "                    is_priority_queue = False\n",
        "\n",
        "    # Determinar qual estrutura é possível\n",
        "    if is_queue and not is_stack and not is_priority_queue:\n",
        "        return \"queue\"\n",
        "    elif not is_queue and is_stack and not is_priority_queue:\n",
        "        return \"stack\"\n",
        "    elif not is_queue and not is_stack and is_priority_queue:\n",
        "        return \"priority queue\"\n",
        "    elif not is_queue and not is_stack and not is_priority_queue:\n",
        "        return \"impossible\"\n",
        "    else:\n",
        "        return \"not sure\"\n",
        "\n",
        "# Leitura de dados de entrada\n",
        "input = sys.stdin.read\n",
        "data = input().splitlines()\n",
        "\n",
        "i = 0\n",
        "results = []\n",
        "\n",
        "# Processar cada conjunto de comandos\n",
        "while i < len(data):\n",
        "    try:\n",
        "        n = int(data[i])\n",
        "        commands = []\n",
        "        i += 1\n",
        "\n",
        "        for _ in range(n):\n",
        "            command = list(map(int, data[i].split()))\n",
        "            commands.append(command)\n",
        "            i += 1\n",
        "\n",
        "        # Chamar a função e capturar o resultado\n",
        "        results.append(guess_data_structure(n, commands))\n",
        "\n",
        "    except EOFError:\n",
        "        break\n",
        "\n",
        "# Exibir resultados\n",
        "for result in results:\n",
        "    print(result)\n"
      ],
      "metadata": {
        "id": "0KcMTR02sokT"
      },
      "execution_count": null,
      "outputs": []
    }
  ]
}