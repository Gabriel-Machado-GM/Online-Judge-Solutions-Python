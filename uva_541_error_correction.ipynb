{
  "nbformat": 4,
  "nbformat_minor": 0,
  "metadata": {
    "colab": {
      "provenance": [],
      "authorship_tag": "ABX9TyO9W5Yh9bLWw8D2SEUIRVhR",
      "include_colab_link": true
    },
    "kernelspec": {
      "name": "python3",
      "display_name": "Python 3"
    },
    "language_info": {
      "name": "python"
    }
  },
  "cells": [
    {
      "cell_type": "markdown",
      "metadata": {
        "id": "view-in-github",
        "colab_type": "text"
      },
      "source": [
        "<a href=\"https://colab.research.google.com/github/Gabriel-Machado-GM/Online-Judge-Solutions-Python/blob/main/uva_541_error_correction.ipynb\" target=\"_parent\"><img src=\"https://colab.research.google.com/assets/colab-badge.svg\" alt=\"Open In Colab\"/></a>"
      ]
    },
    {
      "cell_type": "markdown",
      "source": [
        "![image.png](data:image/png;base64,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)\n",
        "\n",
        "**@PDF: [UVA 541 - Error Correction](https://onlinejudge.org/external/5/541.pdf)** \\\n",
        "**@AUTOR: [GABRIEL MACHADO](https://github.com/Gabriel-Machado-GM)** \\\n",
        "**@REPO: [ONLINE JUDGE SOLUTIONS PYTHON](https://github.com/Gabriel-Machado-GM/Online-Judge-Solutions-Python)**\n",
        "\n",
        "# UVA 541 Error Correction\n",
        "\n",
        "A boolean matrix has the parity property when each row and each column has an even sum, i.e. contains an even number of bits which are set. Here's a $4 \\times 4$ matrix which has the parity property:\n",
        "\n",
        "1 0 1 0\\\n",
        "0 0 0 0\\\n",
        "1 1 1 1\\\n",
        "0 1 0 1\n",
        "\n",
        "\n",
        "The sums of the rows are 2, 0, 4 and 2. The sums of the columns are 2, 2, 2 and 2.\n",
        "\n",
        "Your job is to write a program that reads in a matrix and checks if it has the parity property. If not, your program should check if the parity property can be established by changing only one bit. If this is not possible either, the matrix should be classified as corrupt.\n",
        "\n",
        "## Input\n",
        "\n",
        "The input file will contain one or more test cases. The first line of each test case contains one integer $n (n<100)$, representing the size of the matrix. On the next n lines, there will be n integers per line. No other integers than '0' and '1' will occur in the matrix. Input will be terminated by a value of 0 for n.\n",
        "\n",
        "## Output\n",
        "\n",
        "For each matrix in the input file, print one line. If the matrix already has the parity property, print 'OK'. If the parity property can be established by changing one bit, print 'Change bit (i,j)' where i is the row and j the column of the bit to be changed. Otherwise, print 'Corrupt'.\n",
        "\n",
        "## Sample Input\n",
        "\n",
        "4\\\n",
        "1 0 1 0\\\n",
        "0 0 0 0\\\n",
        "1 1 1 1\\\n",
        "0 1 0 1\\\n",
        "4\\\n",
        "1 0 1 0\\\n",
        "0 0 1 0\\\n",
        "1 1 1 1\\\n",
        "0 1 0 1\\\n",
        "4\\\n",
        "1 0 1 0\\\n",
        "0 1 1 0\\\n",
        "1 1 1 1\\\n",
        "0 1 0 1\\\n",
        "0\n",
        "\n",
        "\n",
        "## Sample Output\n",
        "\n",
        "OK\\\n",
        "Change bit (2,3)\\\n",
        "Corrupt"
      ],
      "metadata": {
        "id": "LhNzSSodmWfP"
      }
    },
    {
      "cell_type": "code",
      "execution_count": null,
      "metadata": {
        "id": "XKUsUJqDYf2J"
      },
      "outputs": [],
      "source": [
        "from sys import stdin, stdout\n",
        "\n",
        "while True:  # This initiates an infinite loop. In the context of online judges, this loop is designed to process multiple test cases within a single execution. The judge provides several inputs, and the program keeps running until it encounters a specific end-of-input signal.\n",
        "    dim = int(input())  # Reads an integer from standard input, which represents the dimension of a square matrix.\n",
        "\n",
        "    if dim == 0:  # This condition checks for the termination signal. A dimension of 0 is used to indicate the end of input, signaling that there are no more matrices to process.\n",
        "        break  # If the dimension is 0, the loop breaks, and the program finishes.\n",
        "\n",
        "    row_mismatch = -1  # Initializes a variable to store the row number with a mismatch. It's initialized to -1, indicating no mismatch found yet.\n",
        "    col_mismatch = -1  # Initializes a variable to store the column number with a mismatch. It's also initialized to -1.\n",
        "    corrupt = False  # A boolean flag to indicate if the matrix is corrupt (more than one mismatch). Initially set to False.\n",
        "    matrix = [[] for j in range(dim)]  # Creates a 2D list (matrix) with dimensions dim x dim. It's initialized as a list of empty lists.\n",
        "    for i in range(dim):  # This loop iterates through each row of the matrix.\n",
        "        entry = list(map(int, input().split()))  # Reads a line of space-separated integers from standard input and converts them into a list.\n",
        "\n",
        "        if corrupt:  # If the matrix is already marked as corrupt, skip further processing of rows.\n",
        "            continue  # This optimization avoids unnecessary computations once corruption is detected.\n",
        "\n",
        "        for j, e in enumerate(entry):  # This inner loop iterates through each element 'e' in the current row. 'j' is the column index.\n",
        "            matrix[j].append(e)  # Appends the element 'e' to the corresponding column in the 'matrix'. This effectively transposes the input.\n",
        "        if sum(entry) % 2:  # Checks if the sum of elements in the current row is odd. The modulo operator (%) returns the remainder of the division. If the remainder is 1, the sum is odd.\n",
        "            if row_mismatch == -1:  # If this is the first row with an odd sum...\n",
        "                row_mismatch = i + 1  # Record the row number (i + 1 because row indices start from 1).\n",
        "            else:  # If we've already found a row with an odd sum...\n",
        "                corrupt = True  # The matrix is corrupt because there's more than one row with an odd sum.\n",
        "\n",
        "    if not corrupt:  # If the matrix is not corrupt after checking all rows...\n",
        "        for j, entry in enumerate(matrix):  # Iterate through each column (which is now a list in 'matrix').\n",
        "            if sum(entry) % 2:  # Check if the sum of elements in the current column is odd.\n",
        "                if col_mismatch == -1:  # If this is the first column with an odd sum...\n",
        "                    col_mismatch = j + 1  # Record the column number.\n",
        "                else:  # If we've already found a column with an odd sum...\n",
        "                    corrupt = True  # The matrix is corrupt.\n",
        "\n",
        "    if not corrupt:  # If the matrix is not corrupt after checking all rows and columns...\n",
        "        if col_mismatch == row_mismatch == -1:  # If no row and no column have an odd sum...\n",
        "            print(\"OK\")  # The matrix is considered \"OK\".\n",
        "        else:  # If exactly one row and one column have an odd sum...\n",
        "            print(\"Change bit ({},{})\".format(row_mismatch, col_mismatch))  # Print the coordinates of the bit to change.\n",
        "    else:  # If the matrix is corrupt (more than one row or column with an odd sum)...\n",
        "        print(\"Corrupt\")  # Print \"Corrupt\"."
      ]
    }
  ]
}