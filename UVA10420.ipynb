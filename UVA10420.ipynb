{
  "nbformat": 4,
  "nbformat_minor": 0,
  "metadata": {
    "colab": {
      "provenance": [],
      "authorship_tag": "ABX9TyPMjeEbb4mXjeQnxEsnHWez",
      "include_colab_link": true
    },
    "kernelspec": {
      "name": "python3",
      "display_name": "Python 3"
    },
    "language_info": {
      "name": "python"
    }
  },
  "cells": [
    {
      "cell_type": "markdown",
      "metadata": {
        "id": "view-in-github",
        "colab_type": "text"
      },
      "source": [
        "<a href=\"https://colab.research.google.com/github/Gabriel-Machado-GM/Online-Judge-Solutions-Python/blob/main/UVA10420.ipynb\" target=\"_parent\"><img src=\"https://colab.research.google.com/assets/colab-badge.svg\" alt=\"Open In Colab\"/></a>"
      ]
    },
    {
      "cell_type": "markdown",
      "source": [
        "# UVA 10420\n",
        "\n",
        "## Gabriel Machado\n",
        "\n",
        "Link para o PDF: https://onlinejudge.org/external/104/10420.pdf\n",
        "\n",
        "## Explicação do Exercício: Comparação de Dicionários e Identificação de Mudanças\n",
        "\n",
        "Analise dois dicionários e liste as diferenças entre eles. O programa deve identificar:\n",
        "\n",
        "* **Adições:** Quais chaves foram adicionadas no novo dicionário em relação ao antigo.\n",
        "* **Remoções:** Quais chaves presentes no dicionário antigo foram removidas no novo dicionário.\n",
        "* **Alterações:** Quais chaves permanecem nos dois dicionários, mas tiveram seus valores modificados.\n",
        "\n",
        "### Formato da Entrada\n",
        "\n",
        "O programa recebe como entrada diversos casos de teste. Cada caso consiste em duas linhas:\n",
        "\n",
        "* A primeira linha contém o dicionário \"antigo\" no formato `{chave:valor, chave:valor,..., chave:valor}`.\n",
        "* A segunda linha contém o dicionário \"novo\", também no formato `{chave:valor, chave:valor,..., chave:valor}`.\n",
        "\n",
        "### Formato da Saída\n",
        "\n",
        "Para cada caso de teste, o programa deve imprimir uma saída formatada da seguinte maneira:\n",
        "\n",
        "* **Adições:** Se houver chaves novas no dicionário \"novo\", a saída deve começar com o sinal \"+\" seguido das chaves adicionadas, em ordem alfabética e separadas por vírgula. Por exemplo: `+chave1,chave2,chave3`.\n",
        "* **Remoções:** Se houver chaves do dicionário \"antigo\" que não estão presentes no \"novo\", a saída deve conter o sinal \"-\" seguido das chaves removidas, em ordem alfabética e separadas por vírgula. Por exemplo: `-chave4,chave5`.\n",
        "* **Alterações:** Se houver chaves presentes em ambos os dicionários, mas com valores diferentes, a saída deve incluir o sinal \"*\" seguido das chaves com valores alterados, em ordem alfabética e separadas por vírgula. Por exemplo: `*chave6,chave7`.\n",
        "* **Sem Mudanças:** Se os dois dicionários forem idênticos, a saída deve ser simplesmente a mensagem \"No changes\".\n",
        "\n",
        "Após a análise de cada caso de teste, o programa deve imprimir uma linha em branco para separar os resultados.\n",
        "\n",
        "### Objetivo\n",
        "\n",
        "O exercício tem como objetivo avaliar a habilidade de manipular e comparar dicionários em Python. É necessário implementar a lógica para:\n",
        "\n",
        "* Iterar sobre os dicionários e comparar as chaves.\n",
        "* Verificar se uma chave está presente em ambos os dicionários.\n",
        "* Comparar os valores associados a cada chave.\n",
        "* Ordenar as chaves alfabeticamente para a saída.\n",
        "\n",
        "A solução do exercício requer a compreensão de conceitos importantes da linguagem Python, como estruturas de dados, iteração e ordenação, além da lógica de programação para identificar e descrever as diferenças entre conjuntos de dados.\n"
      ],
      "metadata": {
        "id": "dC7ZxJau5btl"
      }
    },
    {
      "cell_type": "code",
      "execution_count": null,
      "metadata": {
        "id": "8j-_y0J8eD0o"
      },
      "outputs": [],
      "source": [
        "# Contar o número de belezas por nacionalidade a cada vez\n",
        "\n",
        "# Entrada de no máximo 2000 linhas\n",
        "  # A primeira linha n contém o número das n linhas seguintes\n",
        "  # Cada linha seguinte tem no máximo 75 caracteres\n",
        "    # contém um país (a primeira palavra) e o nome de uma mulher (o resto das palavras na linha)\n",
        "\n",
        "\n",
        "# A saída são linhas em ordem alfabética. Cada linha começa com o nome de um país, seguido pelo número total de mulheres que Giovanni amou naquele país, separadas por um espaço\n"
      ]
    },
    {
      "cell_type": "code",
      "source": [
        "inicial = int(input())\n",
        "amores = dict()\n",
        "for i in range(inicial):\n",
        "  entrada = str(input())\n",
        "  # print(entrada)\n",
        "  lista_separada = entrada.split()\n",
        "  # print(lista_separada)\n",
        "  pais = lista_separada[0]\n",
        "  # print(pais)\n",
        "  mulher = ' '.join(lista_separada[1:])\n",
        "  # print(mulher)\n",
        "  if pais not in amores:\n",
        "    amores[pais] = 0\n",
        "  amores[pais] += 1\n",
        "\n",
        "for pais in sorted(amores):\n",
        "  print(pais, amores[pais])"
      ],
      "metadata": {
        "colab": {
          "base_uri": "https://localhost:8080/"
        },
        "id": "IecF3j4QfpuP",
        "outputId": "6000c521-950e-4a7f-f85b-cffd8cf32301"
      },
      "execution_count": null,
      "outputs": [
        {
          "output_type": "stream",
          "name": "stdout",
          "text": [
            "3\n",
            "Espanha Donna Elvira\n",
            "Inglaterra Jane Doe\n",
            "Espanha Donna Anna\n",
            "Inglaterra 1\n",
            "Espanha 2\n"
          ]
        }
      ]
    },
    {
      "cell_type": "code",
      "source": [
        "# Exemplo\n",
        "# Entrada\n",
        "3\n",
        "Espanha Donna Elvira\n",
        "Inglaterra Jane Doe\n",
        "Espanha Donna Anna\n",
        "\n",
        "# Saída\n",
        "Inglaterra 1\n",
        "Espanha 2"
      ],
      "metadata": {
        "id": "Shz7-I4hfb8C"
      },
      "execution_count": null,
      "outputs": []
    }
  ]
}