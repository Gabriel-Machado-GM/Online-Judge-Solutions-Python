{
  "nbformat": 4,
  "nbformat_minor": 0,
  "metadata": {
    "colab": {
      "provenance": [],
      "authorship_tag": "ABX9TyPiHXSoTyvRpfG2R+Hk8GX+",
      "include_colab_link": true
    },
    "kernelspec": {
      "name": "python3",
      "display_name": "Python 3"
    },
    "language_info": {
      "name": "python"
    }
  },
  "cells": [
    {
      "cell_type": "markdown",
      "metadata": {
        "id": "view-in-github",
        "colab_type": "text"
      },
      "source": [
        "<a href=\"https://colab.research.google.com/github/Gabriel-Machado-GM/Online-Judge-Solutions-Python/blob/main/UVA10420.ipynb\" target=\"_parent\"><img src=\"https://colab.research.google.com/assets/colab-badge.svg\" alt=\"Open In Colab\"/></a>"
      ]
    },
    {
      "cell_type": "markdown",
      "source": [
        "# UVA 10420\n",
        "\n",
        "Gabriel Machado"
      ],
      "metadata": {
        "id": "dC7ZxJau5btl"
      }
    },
    {
      "cell_type": "code",
      "execution_count": null,
      "metadata": {
        "id": "8j-_y0J8eD0o"
      },
      "outputs": [],
      "source": [
        "# Contar o número de belezas por nacionalidade a cada vez\n",
        "\n",
        "# Entrada de no máximo 2000 linhas\n",
        "  # A primeira linha n contém o número das n linhas seguintes\n",
        "  # Cada linha seguinte tem no máximo 75 caracteres\n",
        "    # contém um país (a primeira palavra) e o nome de uma mulher (o resto das palavras na linha)\n",
        "\n",
        "\n",
        "# A saída são linhas em ordem alfabética. Cada linha começa com o nome de um país, seguido pelo número total de mulheres que Giovanni amou naquele país, separadas por um espaço\n"
      ]
    },
    {
      "cell_type": "code",
      "source": [
        "inicial = int(input())\n",
        "amores = dict()\n",
        "for i in range(inicial):\n",
        "  entrada = str(input())\n",
        "  # print(entrada)\n",
        "  lista_separada = entrada.split()\n",
        "  # print(lista_separada)\n",
        "  pais = lista_separada[0]\n",
        "  # print(pais)\n",
        "  mulher = ' '.join(lista_separada[1:])\n",
        "  # print(mulher)\n",
        "  if pais not in amores:\n",
        "    amores[pais] = 0\n",
        "  amores[pais] += 1\n",
        "\n",
        "for pais in sorted(amores):\n",
        "  print(pais, amores[pais])"
      ],
      "metadata": {
        "colab": {
          "base_uri": "https://localhost:8080/"
        },
        "id": "IecF3j4QfpuP",
        "outputId": "6000c521-950e-4a7f-f85b-cffd8cf32301"
      },
      "execution_count": null,
      "outputs": [
        {
          "output_type": "stream",
          "name": "stdout",
          "text": [
            "3\n",
            "Espanha Donna Elvira\n",
            "Inglaterra Jane Doe\n",
            "Espanha Donna Anna\n",
            "Inglaterra 1\n",
            "Espanha 2\n"
          ]
        }
      ]
    },
    {
      "cell_type": "code",
      "source": [
        "# Exemplo\n",
        "# Entrada\n",
        "3\n",
        "Espanha Donna Elvira\n",
        "Inglaterra Jane Doe\n",
        "Espanha Donna Anna\n",
        "\n",
        "# Saída\n",
        "Inglaterra 1\n",
        "Espanha 2"
      ],
      "metadata": {
        "id": "Shz7-I4hfb8C"
      },
      "execution_count": null,
      "outputs": []
    }
  ]
}