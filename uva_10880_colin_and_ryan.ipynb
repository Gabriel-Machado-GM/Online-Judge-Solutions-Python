{
  "nbformat": 4,
  "nbformat_minor": 0,
  "metadata": {
    "colab": {
      "provenance": [],
      "authorship_tag": "ABX9TyMcnpq8zgVZX5ZBSWUqt+hp",
      "include_colab_link": true
    },
    "kernelspec": {
      "name": "python3",
      "display_name": "Python 3"
    },
    "language_info": {
      "name": "python"
    }
  },
  "cells": [
    {
      "cell_type": "markdown",
      "metadata": {
        "id": "view-in-github",
        "colab_type": "text"
      },
      "source": [
        "<a href=\"https://colab.research.google.com/github/Gabriel-Machado-GM/Online-Judge-Solutions-Python/blob/main/uva_10880_colin_and_ryan.ipynb\" target=\"_parent\"><img src=\"https://colab.research.google.com/assets/colab-badge.svg\" alt=\"Open In Colab\"/></a>"
      ]
    },
    {
      "cell_type": "markdown",
      "source": [
        "# UVA 10880 - Colin and Ryan\n",
        "\n",
        "**@PDF: [UVA 10880 - Colin and Ryan](https://onlinejudge.org/external/108/10880.pdf)** \\\n",
        "**@AUTOR: [GABRIEL MACHADO](https://github.com/Gabriel-Machado-GM)** \\\n",
        "**@REPO: [ONLINE JUDGE SOLUTIONS PYTHON](https://github.com/Gabriel-Machado-GM/Online-Judge-Solutions-Python)**\n",
        "\n",
        "![image.png](data:image/png;base64,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)\n",
        "\n",
        "## Problem Description\n",
        "\n",
        "Colin and Ryan had a party. They baked C cookies and invited G guests. Each guest ate Q cookies, and R cookies were left (R < Q). [cite: 1]\n",
        "\n",
        "## Input\n",
        "\n",
        "The first line of input gives the number of cases, N. test cases follow. Each one is a line containing C and R (at most 2000000000). [cite: 1]\n",
        "\n",
        "## Output\n",
        "\n",
        "For each test case, output one line containing Case #x: followed by Q the number of cookies each guest ate. If there are multiple answers, print them in increasing order, separated by spaces. Do not print trailing spaces. Print a '0' in the case when R=C[cite: 1, 2].\n",
        "\n",
        "## Sample Input\n",
        "\n",
        "4\\\n",
        "10 0\\\n",
        "13 2\\\n",
        "300 98\\\n",
        "1000 997\n",
        "\n",
        "\n",
        "## Sample Output\n",
        "\n",
        "Case #1: 1 2 5 10\\\n",
        "Case #2: 11\\\n",
        "Case #3: 101 202\\\n",
        "Case #4: 0"
      ],
      "metadata": {
        "id": "eoSo_fqX-NWj"
      }
    },
    {
      "cell_type": "code",
      "source": [
        "from math import sqrt\n",
        "# import time\n",
        "# start = time.time()\n",
        "\n",
        "num_tests = int(input())\n",
        "\n",
        "for test in range(num_tests):\n",
        "  c, r = list(map(int, input().split()))\n",
        "  diff = c - r\n",
        "\n",
        "  if diff == 0:\n",
        "    print(\"Case #{}: 0\".format(test+1))\n",
        "  else:\n",
        "    root = int(sqrt(diff))\n",
        "\n",
        "    sol = set()\n",
        "    for i in range(1, root+1):\n",
        "      if diff % i == 0:\n",
        "\n",
        "        if i > r:\n",
        "          sol.add(i)\n",
        "\n",
        "        q = diff // i\n",
        "        if q > r:\n",
        "          sol.add(q)\n",
        "\n",
        "    items = len(sol)\n",
        "    sol_l = sorted(list(sol))\n",
        "\n",
        "    # sol_l = []\n",
        "    # sol_h = []\n",
        "    # items = 0\n",
        "    # for i in range(1, root+1):\n",
        "    #   if diff % i == 0:\n",
        "\n",
        "    #     if i > r:\n",
        "    #       sol_l.append(i)\n",
        "    #       items += 1\n",
        "\n",
        "    #     q = diff // i\n",
        "    #     if q > r:\n",
        "    #       sol_h.append(q)\n",
        "    #       items += 1\n",
        "    # sol_l += reversed(sol_h)\n",
        "\n",
        "    if items == 0:\n",
        "      print(\"Case #{}:\".format(test+1))\n",
        "    else:\n",
        "      print(\"Case #{}: {}\".format(test+1, \" \".join(map(str, sol_l))))\n",
        "\n",
        "# end = time.time()\n",
        "# print(\"Took {} seconds\".format(end - start))\n",
        "\n",
        "###################################################################################################################################\n",
        "# The provided code calculates possible values of Q (number of cookies each guest ate)\n",
        "# given the total number of cookies (C) and the remaining cookies (R).\n",
        "# The logic is based on the relationship: C = G * Q + R, where G is the number of guests.\n",
        "\n",
        "# Data Structures used:\n",
        "# - `set`: To store the unique possible values of Q. Sets provide efficient membership testing (checking if an element is already in the set)\n",
        "# - `list`: Used to store the unique values of Q and then sort them.\n",
        "# - `int`, `float`: Basic data types for numerical computations.\n",
        "\n",
        "\n",
        "# Algorithm Explanation:\n",
        "\n",
        "# 1. Input Processing:\n",
        "#    - Reads the number of test cases (`num_tests`) and iterates through each test case.\n",
        "#    - For each case, it reads the total number of cookies (C) and remaining cookies (R).\n",
        "#    - It calculates the difference (`diff`) between C and R, which represents the cookies consumed by the guests (C - R).\n",
        "\n",
        "# 2. Trivial Case:\n",
        "#    - If `diff` is zero, then no cookies were eaten (R=C). In this case, it prints \"0\" as the output.\n",
        "\n",
        "# 3. Finding Divisors of diff:\n",
        "#    - The core of the algorithm lies in finding the divisors of `diff`.\n",
        "#    - It calculates the square root of `diff` and iterates up to this root.\n",
        "#    - For each `i` in this range, if `i` divides `diff` without any remainder, it means `i` is a divisor of `diff`.\n",
        "#    - It also considers `q` which is equal to `diff // i` (integer division), as `q` is another divisor.\n",
        "#    - **Optimization**: Iterating up to the square root of diff and checking divisors this way ensures that all divisors are found. We dont need to iterate all the numbers up to diff.\n",
        "#   -  Example : For diff = 12 , divisors are [1,2,3,4,6,12] . But, sqrt(12) = 3.xxx , so if we iterate till 3 , we will get : 1 => 12 , 2 => 6 , 3 => 4. We dont need to iterate to find others .\n",
        "\n",
        "# 4. Filtering Divisors:\n",
        "#    - To ensure each guest ate more than R cookies, it filters the divisors: Only those greater than R are considered as valid solutions.\n",
        "#    - The found Q values are added to the `sol` set.\n",
        "#   -  This eliminates duplicates and the result are valid values of Q\n",
        "\n",
        "# 5. Output:\n",
        "#   - The set is converted to a list (`sol_l`) and sorted in increasing order.\n",
        "#   - If no valid solutions are found (items == 0), it just prints the case number. Otherwise, prints the case number and the sorted Q values, separated by spaces.\n",
        "\n",
        "# Comments on Efficiency and Data Structures:\n",
        "# - Using a `set` to store `sol` is a good choice because it automatically handles duplicates and membership checks are very fast (O(1) on average).\n",
        "# - Sorting the `sol_l` list has a time complexity of O(n log n). The sorting is not performance-critical because the input size for diff is not very large .\n",
        "# - The algorithm's efficiency is dominated by the divisor finding process, which is roughly O(sqrt(diff)).\n",
        "# - The overall time complexity of the algorithm is O(n * sqrt(diff)), where 'n' is the number of test cases, and sqrt(diff) is proportional to the square root of the difference between total cookies and remaining cookies."
      ],
      "metadata": {
        "colab": {
          "base_uri": "https://localhost:8080/"
        },
        "id": "mII-1BMv--Qv",
        "outputId": "2cc29ac6-7361-433f-b0f1-c513007cbe37"
      },
      "execution_count": null,
      "outputs": [
        {
          "output_type": "stream",
          "name": "stdout",
          "text": [
            "4\n",
            "10 0\n",
            "Case #1: 1 2 5 10\n",
            "13 2\n",
            "Case #2: 11\n",
            "300 98\n",
            "Case #3: 101 202\n",
            "1000 997\n",
            "Case #4:\n"
          ]
        }
      ]
    }
  ]
}